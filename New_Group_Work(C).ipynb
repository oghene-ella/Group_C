{
 "cells": [
  {
   "cell_type": "code",
   "execution_count": 1,
   "id": "9ce4a843",
   "metadata": {},
   "outputs": [],
   "source": [
    "# download all the libraries required for this group assignment\n",
    "import numpy as np\n",
    "import pandas as pd\n",
    "import io\n",
    "import requests\n",
    "import seaborn as sns\n",
    "from matplotlib import pyplot as plt\n",
    "import pickle\n",
    "import os\n",
    "from pandas.api.types import CategoricalDtype\n",
    "from sklearn.base import BaseEstimator, TransformerMixin\n",
    "from sklearn.pipeline import Pipeline\n",
    "from sklearn.metrics import accuracy_score\n",
    "from sklearn.linear_model import LogisticRegression\n",
    "from sklearn.model_selection import GridSearchCV\n",
    "from sklearn.metrics import classification_report\n",
    "from sklearn.metrics import confusion_matrix\n",
    "from sklearn.preprocessing import StandardScaler\n",
    "from sklearn.pipeline import FeatureUnion\n",
    "from sklearn.model_selection import cross_val_score\n",
    "%matplotlib inline"
   ]
  },
  {
   "cell_type": "code",
   "execution_count": 2,
   "id": "089dd88e",
   "metadata": {},
   "outputs": [],
   "source": [
    "# load both the normal and testing data\n",
    "ReadAdultData = pd.read_excel('data/adult.data.xlsx')\n",
    "# ReadAdultTestData = pd.read_excel('adult.test.xlsx')"
   ]
  },
  {
   "cell_type": "code",
   "execution_count": 3,
   "id": "97215a7b",
   "metadata": {},
   "outputs": [
    {
     "data": {
      "text/html": [
       "<div>\n",
       "<style scoped>\n",
       "    .dataframe tbody tr th:only-of-type {\n",
       "        vertical-align: middle;\n",
       "    }\n",
       "\n",
       "    .dataframe tbody tr th {\n",
       "        vertical-align: top;\n",
       "    }\n",
       "\n",
       "    .dataframe thead th {\n",
       "        text-align: right;\n",
       "    }\n",
       "</style>\n",
       "<table border=\"1\" class=\"dataframe\">\n",
       "  <thead>\n",
       "    <tr style=\"text-align: right;\">\n",
       "      <th></th>\n",
       "      <th>Age</th>\n",
       "      <th>Work Class</th>\n",
       "      <th>Final Weight</th>\n",
       "      <th>Education</th>\n",
       "      <th>Education Number of Years</th>\n",
       "      <th>Marital Status</th>\n",
       "      <th>Occupation</th>\n",
       "      <th>Relationship</th>\n",
       "      <th>Race</th>\n",
       "      <th>Sex</th>\n",
       "      <th>Capital Gain</th>\n",
       "      <th>Capital Loss</th>\n",
       "      <th>Hours per Week</th>\n",
       "      <th>Native Country</th>\n",
       "      <th>Income</th>\n",
       "    </tr>\n",
       "  </thead>\n",
       "  <tbody>\n",
       "    <tr>\n",
       "      <th>0</th>\n",
       "      <td>39</td>\n",
       "      <td>State-gov</td>\n",
       "      <td>77516</td>\n",
       "      <td>Bachelors</td>\n",
       "      <td>13</td>\n",
       "      <td>Never-married</td>\n",
       "      <td>Adm-clerical</td>\n",
       "      <td>Not-in-family</td>\n",
       "      <td>White</td>\n",
       "      <td>Male</td>\n",
       "      <td>2174</td>\n",
       "      <td>0</td>\n",
       "      <td>40</td>\n",
       "      <td>United-States</td>\n",
       "      <td>&lt;=50K</td>\n",
       "    </tr>\n",
       "    <tr>\n",
       "      <th>1</th>\n",
       "      <td>50</td>\n",
       "      <td>Self-emp-not-inc</td>\n",
       "      <td>83311</td>\n",
       "      <td>Bachelors</td>\n",
       "      <td>13</td>\n",
       "      <td>Married-civ-spouse</td>\n",
       "      <td>Exec-managerial</td>\n",
       "      <td>Husband</td>\n",
       "      <td>White</td>\n",
       "      <td>Male</td>\n",
       "      <td>0</td>\n",
       "      <td>0</td>\n",
       "      <td>13</td>\n",
       "      <td>United-States</td>\n",
       "      <td>&lt;=50K</td>\n",
       "    </tr>\n",
       "    <tr>\n",
       "      <th>2</th>\n",
       "      <td>38</td>\n",
       "      <td>Private</td>\n",
       "      <td>215646</td>\n",
       "      <td>HS-grad</td>\n",
       "      <td>9</td>\n",
       "      <td>Divorced</td>\n",
       "      <td>Handlers-cleaners</td>\n",
       "      <td>Not-in-family</td>\n",
       "      <td>White</td>\n",
       "      <td>Male</td>\n",
       "      <td>0</td>\n",
       "      <td>0</td>\n",
       "      <td>40</td>\n",
       "      <td>United-States</td>\n",
       "      <td>&lt;=50K</td>\n",
       "    </tr>\n",
       "    <tr>\n",
       "      <th>3</th>\n",
       "      <td>53</td>\n",
       "      <td>Private</td>\n",
       "      <td>234721</td>\n",
       "      <td>11th</td>\n",
       "      <td>7</td>\n",
       "      <td>Married-civ-spouse</td>\n",
       "      <td>Handlers-cleaners</td>\n",
       "      <td>Husband</td>\n",
       "      <td>Black</td>\n",
       "      <td>Male</td>\n",
       "      <td>0</td>\n",
       "      <td>0</td>\n",
       "      <td>40</td>\n",
       "      <td>United-States</td>\n",
       "      <td>&lt;=50K</td>\n",
       "    </tr>\n",
       "    <tr>\n",
       "      <th>4</th>\n",
       "      <td>28</td>\n",
       "      <td>Private</td>\n",
       "      <td>338409</td>\n",
       "      <td>Bachelors</td>\n",
       "      <td>13</td>\n",
       "      <td>Married-civ-spouse</td>\n",
       "      <td>Prof-specialty</td>\n",
       "      <td>Wife</td>\n",
       "      <td>Black</td>\n",
       "      <td>Female</td>\n",
       "      <td>0</td>\n",
       "      <td>0</td>\n",
       "      <td>40</td>\n",
       "      <td>Cuba</td>\n",
       "      <td>&lt;=50K</td>\n",
       "    </tr>\n",
       "  </tbody>\n",
       "</table>\n",
       "</div>"
      ],
      "text/plain": [
       "   Age         Work Class  Final Weight   Education  \\\n",
       "0   39          State-gov         77516   Bachelors   \n",
       "1   50   Self-emp-not-inc         83311   Bachelors   \n",
       "2   38            Private        215646     HS-grad   \n",
       "3   53            Private        234721        11th   \n",
       "4   28            Private        338409   Bachelors   \n",
       "\n",
       "   Education Number of Years       Marital Status          Occupation  \\\n",
       "0                         13        Never-married        Adm-clerical   \n",
       "1                         13   Married-civ-spouse     Exec-managerial   \n",
       "2                          9             Divorced   Handlers-cleaners   \n",
       "3                          7   Married-civ-spouse   Handlers-cleaners   \n",
       "4                         13   Married-civ-spouse      Prof-specialty   \n",
       "\n",
       "     Relationship    Race      Sex  Capital Gain  Capital Loss  \\\n",
       "0   Not-in-family   White     Male          2174             0   \n",
       "1         Husband   White     Male             0             0   \n",
       "2   Not-in-family   White     Male             0             0   \n",
       "3         Husband   Black     Male             0             0   \n",
       "4            Wife   Black   Female             0             0   \n",
       "\n",
       "   Hours per Week  Native Country  Income  \n",
       "0              40   United-States   <=50K  \n",
       "1              13   United-States   <=50K  \n",
       "2              40   United-States   <=50K  \n",
       "3              40   United-States   <=50K  \n",
       "4              40            Cuba   <=50K  "
      ]
     },
     "execution_count": 3,
     "metadata": {},
     "output_type": "execute_result"
    }
   ],
   "source": [
    "# show the normal data\n",
    "ReadAdultData.head()"
   ]
  },
  {
   "cell_type": "code",
   "execution_count": 4,
   "id": "1c918e43",
   "metadata": {},
   "outputs": [
    {
     "name": "stdout",
     "output_type": "stream",
     "text": [
      "Information from the ReadAdultData\n",
      "\n",
      "<class 'pandas.core.frame.DataFrame'>\n",
      "RangeIndex: 32561 entries, 0 to 32560\n",
      "Data columns (total 15 columns):\n",
      " #   Column                     Non-Null Count  Dtype \n",
      "---  ------                     --------------  ----- \n",
      " 0   Age                        32561 non-null  int64 \n",
      " 1   Work Class                 32561 non-null  object\n",
      " 2   Final Weight               32561 non-null  int64 \n",
      " 3   Education                  32561 non-null  object\n",
      " 4   Education Number of Years  32561 non-null  int64 \n",
      " 5   Marital Status             32561 non-null  object\n",
      " 6   Occupation                 32561 non-null  object\n",
      " 7   Relationship               32561 non-null  object\n",
      " 8   Race                       32561 non-null  object\n",
      " 9   Sex                        32561 non-null  object\n",
      " 10  Capital Gain               32561 non-null  int64 \n",
      " 11  Capital Loss               32561 non-null  int64 \n",
      " 12  Hours per Week             32561 non-null  int64 \n",
      " 13  Native Country             32561 non-null  object\n",
      " 14  Income                     32561 non-null  object\n",
      "dtypes: int64(6), object(9)\n",
      "memory usage: 3.7+ MB\n"
     ]
    }
   ],
   "source": [
    "# get information from the ReadAdultData\n",
    "print('Information from the ReadAdultData\\n')\n",
    "ReadAdultData.info()\n",
    "# get information from the ReadAdultTestData\n",
    "# print('\\n\\n\\nInformation from the ReadAdultTestData\\n')\n",
    "# ReadAdultTestData.info()"
   ]
  },
  {
   "cell_type": "markdown",
   "id": "c332de38",
   "metadata": {},
   "source": [
    "<h2>Desceribe the Dataset</h2>"
   ]
  },
  {
   "cell_type": "code",
   "execution_count": 5,
   "id": "8734e45b",
   "metadata": {
    "scrolled": false
   },
   "outputs": [
    {
     "data": {
      "text/html": [
       "<div>\n",
       "<style scoped>\n",
       "    .dataframe tbody tr th:only-of-type {\n",
       "        vertical-align: middle;\n",
       "    }\n",
       "\n",
       "    .dataframe tbody tr th {\n",
       "        vertical-align: top;\n",
       "    }\n",
       "\n",
       "    .dataframe thead th {\n",
       "        text-align: right;\n",
       "    }\n",
       "</style>\n",
       "<table border=\"1\" class=\"dataframe\">\n",
       "  <thead>\n",
       "    <tr style=\"text-align: right;\">\n",
       "      <th></th>\n",
       "      <th>Age</th>\n",
       "      <th>Work Class</th>\n",
       "      <th>Final Weight</th>\n",
       "      <th>Education</th>\n",
       "      <th>Education Number of Years</th>\n",
       "      <th>Marital Status</th>\n",
       "      <th>Occupation</th>\n",
       "      <th>Relationship</th>\n",
       "      <th>Race</th>\n",
       "      <th>Sex</th>\n",
       "      <th>Capital Gain</th>\n",
       "      <th>Capital Loss</th>\n",
       "      <th>Hours per Week</th>\n",
       "      <th>Native Country</th>\n",
       "      <th>Income</th>\n",
       "    </tr>\n",
       "  </thead>\n",
       "  <tbody>\n",
       "    <tr>\n",
       "      <th>count</th>\n",
       "      <td>32561.000000</td>\n",
       "      <td>32561</td>\n",
       "      <td>3.256100e+04</td>\n",
       "      <td>32561</td>\n",
       "      <td>32561.000000</td>\n",
       "      <td>32561</td>\n",
       "      <td>32561</td>\n",
       "      <td>32561</td>\n",
       "      <td>32561</td>\n",
       "      <td>32561</td>\n",
       "      <td>32561.000000</td>\n",
       "      <td>32561.000000</td>\n",
       "      <td>32561.000000</td>\n",
       "      <td>32561</td>\n",
       "      <td>32561</td>\n",
       "    </tr>\n",
       "    <tr>\n",
       "      <th>unique</th>\n",
       "      <td>NaN</td>\n",
       "      <td>9</td>\n",
       "      <td>NaN</td>\n",
       "      <td>16</td>\n",
       "      <td>NaN</td>\n",
       "      <td>7</td>\n",
       "      <td>15</td>\n",
       "      <td>6</td>\n",
       "      <td>5</td>\n",
       "      <td>2</td>\n",
       "      <td>NaN</td>\n",
       "      <td>NaN</td>\n",
       "      <td>NaN</td>\n",
       "      <td>42</td>\n",
       "      <td>2</td>\n",
       "    </tr>\n",
       "    <tr>\n",
       "      <th>top</th>\n",
       "      <td>NaN</td>\n",
       "      <td>Private</td>\n",
       "      <td>NaN</td>\n",
       "      <td>HS-grad</td>\n",
       "      <td>NaN</td>\n",
       "      <td>Married-civ-spouse</td>\n",
       "      <td>Prof-specialty</td>\n",
       "      <td>Husband</td>\n",
       "      <td>White</td>\n",
       "      <td>Male</td>\n",
       "      <td>NaN</td>\n",
       "      <td>NaN</td>\n",
       "      <td>NaN</td>\n",
       "      <td>United-States</td>\n",
       "      <td>&lt;=50K</td>\n",
       "    </tr>\n",
       "    <tr>\n",
       "      <th>freq</th>\n",
       "      <td>NaN</td>\n",
       "      <td>22696</td>\n",
       "      <td>NaN</td>\n",
       "      <td>10501</td>\n",
       "      <td>NaN</td>\n",
       "      <td>14976</td>\n",
       "      <td>4140</td>\n",
       "      <td>13193</td>\n",
       "      <td>27816</td>\n",
       "      <td>21790</td>\n",
       "      <td>NaN</td>\n",
       "      <td>NaN</td>\n",
       "      <td>NaN</td>\n",
       "      <td>29170</td>\n",
       "      <td>24720</td>\n",
       "    </tr>\n",
       "    <tr>\n",
       "      <th>mean</th>\n",
       "      <td>38.581647</td>\n",
       "      <td>NaN</td>\n",
       "      <td>1.897784e+05</td>\n",
       "      <td>NaN</td>\n",
       "      <td>10.080679</td>\n",
       "      <td>NaN</td>\n",
       "      <td>NaN</td>\n",
       "      <td>NaN</td>\n",
       "      <td>NaN</td>\n",
       "      <td>NaN</td>\n",
       "      <td>1077.648844</td>\n",
       "      <td>87.303830</td>\n",
       "      <td>40.437456</td>\n",
       "      <td>NaN</td>\n",
       "      <td>NaN</td>\n",
       "    </tr>\n",
       "    <tr>\n",
       "      <th>std</th>\n",
       "      <td>13.640433</td>\n",
       "      <td>NaN</td>\n",
       "      <td>1.055500e+05</td>\n",
       "      <td>NaN</td>\n",
       "      <td>2.572720</td>\n",
       "      <td>NaN</td>\n",
       "      <td>NaN</td>\n",
       "      <td>NaN</td>\n",
       "      <td>NaN</td>\n",
       "      <td>NaN</td>\n",
       "      <td>7385.292085</td>\n",
       "      <td>402.960219</td>\n",
       "      <td>12.347429</td>\n",
       "      <td>NaN</td>\n",
       "      <td>NaN</td>\n",
       "    </tr>\n",
       "    <tr>\n",
       "      <th>min</th>\n",
       "      <td>17.000000</td>\n",
       "      <td>NaN</td>\n",
       "      <td>1.228500e+04</td>\n",
       "      <td>NaN</td>\n",
       "      <td>1.000000</td>\n",
       "      <td>NaN</td>\n",
       "      <td>NaN</td>\n",
       "      <td>NaN</td>\n",
       "      <td>NaN</td>\n",
       "      <td>NaN</td>\n",
       "      <td>0.000000</td>\n",
       "      <td>0.000000</td>\n",
       "      <td>1.000000</td>\n",
       "      <td>NaN</td>\n",
       "      <td>NaN</td>\n",
       "    </tr>\n",
       "    <tr>\n",
       "      <th>25%</th>\n",
       "      <td>28.000000</td>\n",
       "      <td>NaN</td>\n",
       "      <td>1.178270e+05</td>\n",
       "      <td>NaN</td>\n",
       "      <td>9.000000</td>\n",
       "      <td>NaN</td>\n",
       "      <td>NaN</td>\n",
       "      <td>NaN</td>\n",
       "      <td>NaN</td>\n",
       "      <td>NaN</td>\n",
       "      <td>0.000000</td>\n",
       "      <td>0.000000</td>\n",
       "      <td>40.000000</td>\n",
       "      <td>NaN</td>\n",
       "      <td>NaN</td>\n",
       "    </tr>\n",
       "    <tr>\n",
       "      <th>50%</th>\n",
       "      <td>37.000000</td>\n",
       "      <td>NaN</td>\n",
       "      <td>1.783560e+05</td>\n",
       "      <td>NaN</td>\n",
       "      <td>10.000000</td>\n",
       "      <td>NaN</td>\n",
       "      <td>NaN</td>\n",
       "      <td>NaN</td>\n",
       "      <td>NaN</td>\n",
       "      <td>NaN</td>\n",
       "      <td>0.000000</td>\n",
       "      <td>0.000000</td>\n",
       "      <td>40.000000</td>\n",
       "      <td>NaN</td>\n",
       "      <td>NaN</td>\n",
       "    </tr>\n",
       "    <tr>\n",
       "      <th>75%</th>\n",
       "      <td>48.000000</td>\n",
       "      <td>NaN</td>\n",
       "      <td>2.370510e+05</td>\n",
       "      <td>NaN</td>\n",
       "      <td>12.000000</td>\n",
       "      <td>NaN</td>\n",
       "      <td>NaN</td>\n",
       "      <td>NaN</td>\n",
       "      <td>NaN</td>\n",
       "      <td>NaN</td>\n",
       "      <td>0.000000</td>\n",
       "      <td>0.000000</td>\n",
       "      <td>45.000000</td>\n",
       "      <td>NaN</td>\n",
       "      <td>NaN</td>\n",
       "    </tr>\n",
       "    <tr>\n",
       "      <th>max</th>\n",
       "      <td>90.000000</td>\n",
       "      <td>NaN</td>\n",
       "      <td>1.484705e+06</td>\n",
       "      <td>NaN</td>\n",
       "      <td>16.000000</td>\n",
       "      <td>NaN</td>\n",
       "      <td>NaN</td>\n",
       "      <td>NaN</td>\n",
       "      <td>NaN</td>\n",
       "      <td>NaN</td>\n",
       "      <td>99999.000000</td>\n",
       "      <td>4356.000000</td>\n",
       "      <td>99.000000</td>\n",
       "      <td>NaN</td>\n",
       "      <td>NaN</td>\n",
       "    </tr>\n",
       "  </tbody>\n",
       "</table>\n",
       "</div>"
      ],
      "text/plain": [
       "                 Age Work Class  Final Weight Education  \\\n",
       "count   32561.000000      32561  3.256100e+04     32561   \n",
       "unique           NaN          9           NaN        16   \n",
       "top              NaN    Private           NaN   HS-grad   \n",
       "freq             NaN      22696           NaN     10501   \n",
       "mean       38.581647        NaN  1.897784e+05       NaN   \n",
       "std        13.640433        NaN  1.055500e+05       NaN   \n",
       "min        17.000000        NaN  1.228500e+04       NaN   \n",
       "25%        28.000000        NaN  1.178270e+05       NaN   \n",
       "50%        37.000000        NaN  1.783560e+05       NaN   \n",
       "75%        48.000000        NaN  2.370510e+05       NaN   \n",
       "max        90.000000        NaN  1.484705e+06       NaN   \n",
       "\n",
       "        Education Number of Years       Marital Status       Occupation  \\\n",
       "count                32561.000000                32561            32561   \n",
       "unique                        NaN                    7               15   \n",
       "top                           NaN   Married-civ-spouse   Prof-specialty   \n",
       "freq                          NaN                14976             4140   \n",
       "mean                    10.080679                  NaN              NaN   \n",
       "std                      2.572720                  NaN              NaN   \n",
       "min                      1.000000                  NaN              NaN   \n",
       "25%                      9.000000                  NaN              NaN   \n",
       "50%                     10.000000                  NaN              NaN   \n",
       "75%                     12.000000                  NaN              NaN   \n",
       "max                     16.000000                  NaN              NaN   \n",
       "\n",
       "       Relationship    Race    Sex  Capital Gain  Capital Loss  \\\n",
       "count         32561   32561  32561  32561.000000  32561.000000   \n",
       "unique            6       5      2           NaN           NaN   \n",
       "top         Husband   White   Male           NaN           NaN   \n",
       "freq          13193   27816  21790           NaN           NaN   \n",
       "mean            NaN     NaN    NaN   1077.648844     87.303830   \n",
       "std             NaN     NaN    NaN   7385.292085    402.960219   \n",
       "min             NaN     NaN    NaN      0.000000      0.000000   \n",
       "25%             NaN     NaN    NaN      0.000000      0.000000   \n",
       "50%             NaN     NaN    NaN      0.000000      0.000000   \n",
       "75%             NaN     NaN    NaN      0.000000      0.000000   \n",
       "max             NaN     NaN    NaN  99999.000000   4356.000000   \n",
       "\n",
       "        Hours per Week  Native Country  Income  \n",
       "count     32561.000000           32561   32561  \n",
       "unique             NaN              42       2  \n",
       "top                NaN   United-States   <=50K  \n",
       "freq               NaN           29170   24720  \n",
       "mean         40.437456             NaN     NaN  \n",
       "std          12.347429             NaN     NaN  \n",
       "min           1.000000             NaN     NaN  \n",
       "25%          40.000000             NaN     NaN  \n",
       "50%          40.000000             NaN     NaN  \n",
       "75%          45.000000             NaN     NaN  \n",
       "max          99.000000             NaN     NaN  "
      ]
     },
     "execution_count": 5,
     "metadata": {},
     "output_type": "execute_result"
    }
   ],
   "source": [
    "ReadAdultData.describe(include='all')"
   ]
  },
  {
   "cell_type": "markdown",
   "id": "2cdeebfb",
   "metadata": {},
   "source": [
    "<h2>Check for missing values</h2>"
   ]
  },
  {
   "cell_type": "code",
   "execution_count": 6,
   "id": "e4783b21",
   "metadata": {},
   "outputs": [
    {
     "data": {
      "text/plain": [
       "Age                          0\n",
       "Work Class                   0\n",
       "Final Weight                 0\n",
       "Education                    0\n",
       "Education Number of Years    0\n",
       "Marital Status               0\n",
       "Occupation                   0\n",
       "Relationship                 0\n",
       "Race                         0\n",
       "Sex                          0\n",
       "Capital Gain                 0\n",
       "Capital Loss                 0\n",
       "Hours per Week               0\n",
       "Native Country               0\n",
       "Income                       0\n",
       "dtype: int64"
      ]
     },
     "execution_count": 6,
     "metadata": {},
     "output_type": "execute_result"
    }
   ],
   "source": [
    "ReadAdultData.isnull().sum()"
   ]
  },
  {
   "cell_type": "code",
   "execution_count": 7,
   "id": "1c08e15b",
   "metadata": {},
   "outputs": [
    {
     "data": {
      "text/plain": [
       "(32561, 15)"
      ]
     },
     "execution_count": 7,
     "metadata": {},
     "output_type": "execute_result"
    }
   ],
   "source": [
    "# check for the shape of the variable\n",
    "ReadAdultData.shape"
   ]
  },
  {
   "cell_type": "markdown",
   "id": "eb2b6bf7",
   "metadata": {},
   "source": [
    "<h2>Rename Column</h2>"
   ]
  },
  {
   "cell_type": "code",
   "execution_count": 8,
   "id": "87e7e718",
   "metadata": {},
   "outputs": [],
   "source": [
    "ReadAdultData.rename(columns={'Work Class':'Work_Class', \"Final Weight\":'Final_Weight', \"Education Number of Years\":'Education_Number_of_Years', \"Marital Status\":'Marital_Status', \"Capital Gain\":'Capital_Gain', \"Capital Loss\":'Capital_Loss', \"Hours per Week\":'Hours_per_Week', \"Native Country\":'Native_Country'}, inplace=True)"
   ]
  },
  {
   "cell_type": "markdown",
   "id": "46857f06",
   "metadata": {},
   "source": [
    "<h1>To many income classes</h1><br>\n",
    "First of all, we can see that the income_class column has 4 unique classes, but we expect to have only two."
   ]
  },
  {
   "cell_type": "code",
   "execution_count": 9,
   "id": "71fdf609",
   "metadata": {},
   "outputs": [
    {
     "data": {
      "text/plain": [
       " <=50K    24720\n",
       " >50K      7841\n",
       "Name: Income, dtype: int64"
      ]
     },
     "execution_count": 9,
     "metadata": {},
     "output_type": "execute_result"
    }
   ],
   "source": [
    "ReadAdultData.Income.value_counts(dropna=False)"
   ]
  },
  {
   "cell_type": "markdown",
   "id": "13e42b11",
   "metadata": {},
   "source": [
    "<h1>Extra category</h1><br>\n",
    "If we compare number of unique categorical features for other variables it's easy to see that workclass, occupation and native_country have one extra unique value (+1 unique values compare to the description from the Dataset Description.odt) in the data. One extra class equals to ?. It looks like this values has to be replaced with NaN."
   ]
  },
  {
   "cell_type": "code",
   "execution_count": 10,
   "id": "2dc24fb2",
   "metadata": {},
   "outputs": [
    {
     "data": {
      "text/html": [
       "<div>\n",
       "<style scoped>\n",
       "    .dataframe tbody tr th:only-of-type {\n",
       "        vertical-align: middle;\n",
       "    }\n",
       "\n",
       "    .dataframe tbody tr th {\n",
       "        vertical-align: top;\n",
       "    }\n",
       "\n",
       "    .dataframe thead th {\n",
       "        text-align: right;\n",
       "    }\n",
       "</style>\n",
       "<table border=\"1\" class=\"dataframe\">\n",
       "  <thead>\n",
       "    <tr style=\"text-align: right;\">\n",
       "      <th></th>\n",
       "      <th>Occupation</th>\n",
       "    </tr>\n",
       "  </thead>\n",
       "  <tbody>\n",
       "    <tr>\n",
       "      <th>Prof-specialty</th>\n",
       "      <td>4140</td>\n",
       "    </tr>\n",
       "    <tr>\n",
       "      <th>Craft-repair</th>\n",
       "      <td>4099</td>\n",
       "    </tr>\n",
       "    <tr>\n",
       "      <th>Exec-managerial</th>\n",
       "      <td>4066</td>\n",
       "    </tr>\n",
       "    <tr>\n",
       "      <th>Adm-clerical</th>\n",
       "      <td>3770</td>\n",
       "    </tr>\n",
       "    <tr>\n",
       "      <th>Sales</th>\n",
       "      <td>3650</td>\n",
       "    </tr>\n",
       "    <tr>\n",
       "      <th>Other-service</th>\n",
       "      <td>3295</td>\n",
       "    </tr>\n",
       "    <tr>\n",
       "      <th>Machine-op-inspct</th>\n",
       "      <td>2002</td>\n",
       "    </tr>\n",
       "    <tr>\n",
       "      <th>?</th>\n",
       "      <td>1843</td>\n",
       "    </tr>\n",
       "    <tr>\n",
       "      <th>Transport-moving</th>\n",
       "      <td>1597</td>\n",
       "    </tr>\n",
       "    <tr>\n",
       "      <th>Handlers-cleaners</th>\n",
       "      <td>1370</td>\n",
       "    </tr>\n",
       "    <tr>\n",
       "      <th>Farming-fishing</th>\n",
       "      <td>994</td>\n",
       "    </tr>\n",
       "    <tr>\n",
       "      <th>Tech-support</th>\n",
       "      <td>928</td>\n",
       "    </tr>\n",
       "    <tr>\n",
       "      <th>Protective-serv</th>\n",
       "      <td>649</td>\n",
       "    </tr>\n",
       "    <tr>\n",
       "      <th>Priv-house-serv</th>\n",
       "      <td>149</td>\n",
       "    </tr>\n",
       "    <tr>\n",
       "      <th>Armed-Forces</th>\n",
       "      <td>9</td>\n",
       "    </tr>\n",
       "  </tbody>\n",
       "</table>\n",
       "</div>"
      ],
      "text/plain": [
       "                    Occupation\n",
       " Prof-specialty           4140\n",
       " Craft-repair             4099\n",
       " Exec-managerial          4066\n",
       " Adm-clerical             3770\n",
       " Sales                    3650\n",
       " Other-service            3295\n",
       " Machine-op-inspct        2002\n",
       " ?                        1843\n",
       " Transport-moving         1597\n",
       " Handlers-cleaners        1370\n",
       " Farming-fishing           994\n",
       " Tech-support              928\n",
       " Protective-serv           649\n",
       " Priv-house-serv           149\n",
       " Armed-Forces                9"
      ]
     },
     "execution_count": 10,
     "metadata": {},
     "output_type": "execute_result"
    }
   ],
   "source": [
    "ReadAdultData.Occupation.value_counts(dropna=False).to_frame()"
   ]
  },
  {
   "cell_type": "code",
   "execution_count": 11,
   "id": "63bc2860",
   "metadata": {},
   "outputs": [
    {
     "data": {
      "text/html": [
       "<div>\n",
       "<style scoped>\n",
       "    .dataframe tbody tr th:only-of-type {\n",
       "        vertical-align: middle;\n",
       "    }\n",
       "\n",
       "    .dataframe tbody tr th {\n",
       "        vertical-align: top;\n",
       "    }\n",
       "\n",
       "    .dataframe thead th {\n",
       "        text-align: right;\n",
       "    }\n",
       "</style>\n",
       "<table border=\"1\" class=\"dataframe\">\n",
       "  <thead>\n",
       "    <tr style=\"text-align: right;\">\n",
       "      <th></th>\n",
       "      <th>Work_Class</th>\n",
       "    </tr>\n",
       "  </thead>\n",
       "  <tbody>\n",
       "    <tr>\n",
       "      <th>Private</th>\n",
       "      <td>22696</td>\n",
       "    </tr>\n",
       "    <tr>\n",
       "      <th>Self-emp-not-inc</th>\n",
       "      <td>2541</td>\n",
       "    </tr>\n",
       "    <tr>\n",
       "      <th>Local-gov</th>\n",
       "      <td>2093</td>\n",
       "    </tr>\n",
       "    <tr>\n",
       "      <th>?</th>\n",
       "      <td>1836</td>\n",
       "    </tr>\n",
       "    <tr>\n",
       "      <th>State-gov</th>\n",
       "      <td>1298</td>\n",
       "    </tr>\n",
       "    <tr>\n",
       "      <th>Self-emp-inc</th>\n",
       "      <td>1116</td>\n",
       "    </tr>\n",
       "    <tr>\n",
       "      <th>Federal-gov</th>\n",
       "      <td>960</td>\n",
       "    </tr>\n",
       "    <tr>\n",
       "      <th>Without-pay</th>\n",
       "      <td>14</td>\n",
       "    </tr>\n",
       "    <tr>\n",
       "      <th>Never-worked</th>\n",
       "      <td>7</td>\n",
       "    </tr>\n",
       "  </tbody>\n",
       "</table>\n",
       "</div>"
      ],
      "text/plain": [
       "                   Work_Class\n",
       " Private                22696\n",
       " Self-emp-not-inc        2541\n",
       " Local-gov               2093\n",
       " ?                       1836\n",
       " State-gov               1298\n",
       " Self-emp-inc            1116\n",
       " Federal-gov              960\n",
       " Without-pay               14\n",
       " Never-worked               7"
      ]
     },
     "execution_count": 11,
     "metadata": {},
     "output_type": "execute_result"
    }
   ],
   "source": [
    "ReadAdultData.Work_Class.value_counts(dropna=False).to_frame()"
   ]
  },
  {
   "cell_type": "markdown",
   "id": "854b31e6",
   "metadata": {},
   "source": [
    "<p>We can confirm that those are the only columns that have value equal to ?</p>"
   ]
  },
  {
   "cell_type": "code",
   "execution_count": 12,
   "id": "127b0685",
   "metadata": {},
   "outputs": [
    {
     "data": {
      "text/plain": [
       "Age                             0\n",
       "Work_Class                   1836\n",
       "Final_Weight                    0\n",
       "Education                       0\n",
       "Education_Number_of_Years       0\n",
       "Marital_Status                  0\n",
       "Occupation                   1843\n",
       "Relationship                    0\n",
       "Race                            0\n",
       "Sex                             0\n",
       "Capital_Gain                    0\n",
       "Capital_Loss                    0\n",
       "Hours_per_Week                  0\n",
       "Native_Country                583\n",
       "Income                          0\n",
       "dtype: int64"
      ]
     },
     "execution_count": 12,
     "metadata": {},
     "output_type": "execute_result"
    }
   ],
   "source": [
    "(ReadAdultData == ' ?').sum(axis=0)"
   ]
  },
  {
   "cell_type": "markdown",
   "id": "31ea224d",
   "metadata": {},
   "source": [
    "<h1>Suspicios values with 9s</h1>\n",
    "Two columns have max value with all 9s in them. It's common that people use values with all 9s in order to mark NaN values in columns with numerical values."
   ]
  },
  {
   "cell_type": "code",
   "execution_count": 13,
   "id": "d0a96c59",
   "metadata": {},
   "outputs": [
    {
     "data": {
      "text/plain": [
       "0        29849\n",
       "15024      347\n",
       "7688       284\n",
       "7298       246\n",
       "99999      159\n",
       "3103        97\n",
       "5178        97\n",
       "4386        70\n",
       "5013        69\n",
       "8614        55\n",
       "Name: Capital_Gain, dtype: int64"
      ]
     },
     "execution_count": 13,
     "metadata": {},
     "output_type": "execute_result"
    }
   ],
   "source": [
    "ReadAdultData.Capital_Gain.value_counts(dropna=False).head(10)"
   ]
  },
  {
   "cell_type": "code",
   "execution_count": 14,
   "id": "91406ccd",
   "metadata": {},
   "outputs": [
    {
     "data": {
      "text/plain": [
       "[99999, 41310, 34095, 27828, 25236, 25124, 22040, 20051, 18481, 15831]"
      ]
     },
     "execution_count": 14,
     "metadata": {},
     "output_type": "execute_result"
    }
   ],
   "source": [
    "import heapq\n",
    "heapq.nlargest(10, ReadAdultData.Capital_Gain.unique())"
   ]
  },
  {
   "cell_type": "code",
   "execution_count": 15,
   "id": "35c82e56",
   "metadata": {},
   "outputs": [
    {
     "data": {
      "text/plain": [
       "[99, 98, 97, 96, 95, 94, 92, 91, 90, 89]"
      ]
     },
     "execution_count": 15,
     "metadata": {},
     "output_type": "execute_result"
    }
   ],
   "source": [
    "import heapq\n",
    "heapq.nlargest(10, ReadAdultData.Hours_per_Week.unique())"
   ]
  },
  {
   "cell_type": "markdown",
   "id": "1df2c040",
   "metadata": {},
   "source": [
    "In case of hours_per_week we can see that there are some unique values that close to 99"
   ]
  },
  {
   "cell_type": "code",
   "execution_count": 16,
   "id": "924e412b",
   "metadata": {},
   "outputs": [
    {
     "data": {
      "text/plain": [
       "99    85\n",
       "90    29\n",
       "98    11\n",
       "96     5\n",
       "91     3\n",
       "95     2\n",
       "89     2\n",
       "97     2\n",
       "92     1\n",
       "94     1\n",
       "Name: Hours_per_Week, dtype: int64"
      ]
     },
     "execution_count": 16,
     "metadata": {},
     "output_type": "execute_result"
    }
   ],
   "source": [
    "Hours_per_Week_Counts = ReadAdultData.Hours_per_Week.value_counts()\n",
    "largest_hours_per_week = heapq.nlargest(10, ReadAdultData.Hours_per_Week.unique())\n",
    "Hours_per_Week_Counts[Hours_per_Week_Counts.index.isin(largest_hours_per_week)]"
   ]
  },
  {
   "cell_type": "markdown",
   "id": "dfee638a",
   "metadata": {},
   "source": [
    "If we check countwise it's clear that 99 is unusually large compare to other values. It also could be that 99 means 99+ hours and long tail might fit into this category."
   ]
  },
  {
   "cell_type": "markdown",
   "id": "c21b8354",
   "metadata": {},
   "source": [
    "<h1>Check for Duplicates</h1>"
   ]
  },
  {
   "cell_type": "code",
   "execution_count": 17,
   "id": "87cad3fa",
   "metadata": {},
   "outputs": [
    {
     "name": "stdout",
     "output_type": "stream",
     "text": [
      "32561\n",
      "32537\n",
      "Duplicates removed: 0.07%\n"
     ]
    }
   ],
   "source": [
    "n_samples_before = ReadAdultData.shape[0]\n",
    "n_samples_after = ReadAdultData.drop_duplicates().shape[0]\n",
    "\n",
    "print(n_samples_before)\n",
    "print(n_samples_after)\n",
    "print(\"Duplicates removed: {:.2%}\".format((n_samples_before - n_samples_after) / n_samples_before))"
   ]
  },
  {
   "cell_type": "markdown",
   "id": "41f63e71",
   "metadata": {},
   "source": [
    "<h1>Apply first cleaning steps</h1><br>\n",
    "These steps allow us to address biggest issues that we found so far. Without this fixes it will be harder to do data analysis."
   ]
  },
  {
   "cell_type": "markdown",
   "id": "727e71ef",
   "metadata": {},
   "source": [
    "After removing final weight column we get 10% of duplicates in the training data. We need to remove it before continuing our analysis in order to avoid biases."
   ]
  },
  {
   "cell_type": "code",
   "execution_count": 18,
   "id": "ad4f0d16",
   "metadata": {},
   "outputs": [],
   "source": [
    "def clean_dataset( ReadAdultData):\n",
    "    # Test dataset has dot at the end, we remove it in order\n",
    "    # to unify names between training and test datasets.\n",
    "    ReadAdultData['Income'] = ReadAdultData.Income.str.rstrip('.').astype('category')\n",
    "    \n",
    "    # Remove final weight column since there is no use\n",
    "    # for it during the classification.\n",
    "    ReadAdultData = ReadAdultData.drop('final_weight', axis=1)\n",
    "    \n",
    "    # Duplicates might create biases during the analysis and\n",
    "    # during prediction stage they might give over-optimistic\n",
    "    # (or pessimistic) results.\n",
    "    ReadAdultData = ReadAdultData.drop_duplicates()\n",
    "\n",
    "    return ReadAdultData\n"
   ]
  },
  {
   "cell_type": "markdown",
   "id": "0aaf5934",
   "metadata": {},
   "source": [
    "<h1> Visualization for the columns</h1>"
   ]
  },
  {
   "cell_type": "markdown",
   "id": "759186ed",
   "metadata": {},
   "source": [
    "<h3>Work Class column </h3>"
   ]
  },
  {
   "cell_type": "code",
   "execution_count": 19,
   "id": "6cb7081e",
   "metadata": {
    "scrolled": true
   },
   "outputs": [
    {
     "data": {
      "text/plain": [
       "(array([0, 1, 2, 3, 4, 5, 6, 7, 8]),\n",
       " [Text(0, 0, ' State-gov'),\n",
       "  Text(1, 0, ' Self-emp-not-inc'),\n",
       "  Text(2, 0, ' Private'),\n",
       "  Text(3, 0, ' Federal-gov'),\n",
       "  Text(4, 0, ' Local-gov'),\n",
       "  Text(5, 0, ' ?'),\n",
       "  Text(6, 0, ' Self-emp-inc'),\n",
       "  Text(7, 0, ' Without-pay'),\n",
       "  Text(8, 0, ' Never-worked')])"
      ]
     },
     "execution_count": 19,
     "metadata": {},
     "output_type": "execute_result"
    },
    {
     "data": {
      "image/png": "[encoded data removed]",
      "text/plain": [
       "<Figure size 432x288 with 1 Axes>"
      ]
     },
     "metadata": {
      "needs_background": "light"
     },
     "output_type": "display_data"
    }
   ],
   "source": [
    "sns.countplot(x = ReadAdultData['Work_Class'])\n",
    "plt.xticks(rotation = 90)"
   ]
  },
  {
   "cell_type": "markdown",
   "id": "eb4eb904",
   "metadata": {},
   "source": [
    "<h1>Education COlumn</h1>"
   ]
  },
  {
   "cell_type": "code",
   "execution_count": 20,
   "id": "0a501452",
   "metadata": {},
   "outputs": [
    {
     "data": {
      "text/plain": [
       "(array([ 0,  1,  2,  3,  4,  5,  6,  7,  8,  9, 10, 11, 12, 13, 14, 15]),\n",
       " [Text(0, 0, ' Bachelors'),\n",
       "  Text(1, 0, ' HS-grad'),\n",
       "  Text(2, 0, ' 11th'),\n",
       "  Text(3, 0, ' Masters'),\n",
       "  Text(4, 0, ' 9th'),\n",
       "  Text(5, 0, ' Some-college'),\n",
       "  Text(6, 0, ' Assoc-acdm'),\n",
       "  Text(7, 0, ' Assoc-voc'),\n",
       "  Text(8, 0, ' 7th-8th'),\n",
       "  Text(9, 0, ' Doctorate'),\n",
       "  Text(10, 0, ' Prof-school'),\n",
       "  Text(11, 0, ' 5th-6th'),\n",
       "  Text(12, 0, ' 10th'),\n",
       "  Text(13, 0, ' 1st-4th'),\n",
       "  Text(14, 0, ' Preschool'),\n",
       "  Text(15, 0, ' 12th')])"
      ]
     },
     "execution_count": 20,
     "metadata": {},
     "output_type": "execute_result"
    },
    {
     "data": {
      "image/png": "[encoded data removed]",
      "text/plain": [
       "<Figure size 432x288 with 1 Axes>"
      ]
     },
     "metadata": {
      "needs_background": "light"
     },
     "output_type": "display_data"
    }
   ],
   "source": [
    "sns.countplot(x = ReadAdultData['Education'])\n",
    "plt.xticks(rotation = 90)"
   ]
  },
  {
   "cell_type": "markdown",
   "id": "672b9889",
   "metadata": {},
   "source": [
    "<h3>Marital Status Column</h3>"
   ]
  },
  {
   "cell_type": "code",
   "execution_count": 21,
   "id": "7df6c78a",
   "metadata": {},
   "outputs": [
    {
     "data": {
      "text/plain": [
       "(array([0, 1, 2, 3, 4, 5, 6]),\n",
       " [Text(0, 0, ' Never-married'),\n",
       "  Text(1, 0, ' Married-civ-spouse'),\n",
       "  Text(2, 0, ' Divorced'),\n",
       "  Text(3, 0, ' Married-spouse-absent'),\n",
       "  Text(4, 0, ' Separated'),\n",
       "  Text(5, 0, ' Married-AF-spouse'),\n",
       "  Text(6, 0, ' Widowed')])"
      ]
     },
     "execution_count": 21,
     "metadata": {},
     "output_type": "execute_result"
    },
    {
     "data": {
      "image/png": "[encoded data removed]",
      "text/plain": [
       "<Figure size 432x288 with 1 Axes>"
      ]
     },
     "metadata": {
      "needs_background": "light"
     },
     "output_type": "display_data"
    }
   ],
   "source": [
    "sns.countplot(x = ReadAdultData['Marital_Status'])\n",
    "plt.xticks(rotation = 90)"
   ]
  },
  {
   "cell_type": "markdown",
   "id": "ed8d1e42",
   "metadata": {},
   "source": [
    "<h3>Occupation Column</h3>"
   ]
  },
  {
   "cell_type": "code",
   "execution_count": 22,
   "id": "1c1952a3",
   "metadata": {},
   "outputs": [
    {
     "data": {
      "text/plain": [
       "(array([ 0,  1,  2,  3,  4,  5,  6,  7,  8,  9, 10, 11, 12, 13, 14]),\n",
       " [Text(0, 0, ' Adm-clerical'),\n",
       "  Text(1, 0, ' Exec-managerial'),\n",
       "  Text(2, 0, ' Handlers-cleaners'),\n",
       "  Text(3, 0, ' Prof-specialty'),\n",
       "  Text(4, 0, ' Other-service'),\n",
       "  Text(5, 0, ' Sales'),\n",
       "  Text(6, 0, ' Craft-repair'),\n",
       "  Text(7, 0, ' Transport-moving'),\n",
       "  Text(8, 0, ' Farming-fishing'),\n",
       "  Text(9, 0, ' Machine-op-inspct'),\n",
       "  Text(10, 0, ' Tech-support'),\n",
       "  Text(11, 0, ' ?'),\n",
       "  Text(12, 0, ' Protective-serv'),\n",
       "  Text(13, 0, ' Armed-Forces'),\n",
       "  Text(14, 0, ' Priv-house-serv')])"
      ]
     },
     "execution_count": 22,
     "metadata": {},
     "output_type": "execute_result"
    },
    {
     "data": {
      "image/png": "[encoded data removed]",
      "text/plain": [
       "<Figure size 432x288 with 1 Axes>"
      ]
     },
     "metadata": {
      "needs_background": "light"
     },
     "output_type": "display_data"
    }
   ],
   "source": [
    "sns.countplot(x = ReadAdultData['Occupation'])\n",
    "plt.xticks(rotation = 90)"
   ]
  },
  {
   "cell_type": "markdown",
   "id": "b5147ae1",
   "metadata": {},
   "source": [
    "<h3>Relationship Column</h3>"
   ]
  },
  {
   "cell_type": "code",
   "execution_count": 23,
   "id": "c04ceef5",
   "metadata": {},
   "outputs": [
    {
     "data": {
      "text/plain": [
       "(array([0, 1, 2, 3, 4, 5]),\n",
       " [Text(0, 0, ' Not-in-family'),\n",
       "  Text(1, 0, ' Husband'),\n",
       "  Text(2, 0, ' Wife'),\n",
       "  Text(3, 0, ' Own-child'),\n",
       "  Text(4, 0, ' Unmarried'),\n",
       "  Text(5, 0, ' Other-relative')])"
      ]
     },
     "execution_count": 23,
     "metadata": {},
     "output_type": "execute_result"
    },
    {
     "data": {
      "image/png": "[encoded data removed]",
      "text/plain": [
       "<Figure size 432x288 with 1 Axes>"
      ]
     },
     "metadata": {
      "needs_background": "light"
     },
     "output_type": "display_data"
    }
   ],
   "source": [
    "sns.countplot(x = ReadAdultData['Relationship'])\n",
    "plt.xticks(rotation = 90)"
   ]
  },
  {
   "cell_type": "markdown",
   "id": "5657a434",
   "metadata": {},
   "source": [
    "<h3>Race Column</h3>"
   ]
  },
  {
   "cell_type": "code",
   "execution_count": 24,
   "id": "274ee303",
   "metadata": {},
   "outputs": [
    {
     "data": {
      "text/plain": [
       "(array([0, 1, 2, 3, 4]),\n",
       " [Text(0, 0, ' White'),\n",
       "  Text(1, 0, ' Black'),\n",
       "  Text(2, 0, ' Asian-Pac-Islander'),\n",
       "  Text(3, 0, ' Amer-Indian-Eskimo'),\n",
       "  Text(4, 0, ' Other')])"
      ]
     },
     "execution_count": 24,
     "metadata": {},
     "output_type": "execute_result"
    },
    {
     "data": {
      "image/png": "[encoded data removed]",
      "text/plain": [
       "<Figure size 432x288 with 1 Axes>"
      ]
     },
     "metadata": {
      "needs_background": "light"
     },
     "output_type": "display_data"
    }
   ],
   "source": [
    "sns.countplot(x = ReadAdultData['Race'])\n",
    "plt.xticks(rotation = 90)"
   ]
  },
  {
   "cell_type": "markdown",
   "id": "e704ac01",
   "metadata": {},
   "source": [
    "<h3>Gender Column</h3>"
   ]
  },
  {
   "cell_type": "code",
   "execution_count": 25,
   "id": "6f5f095b",
   "metadata": {
    "scrolled": true
   },
   "outputs": [
    {
     "data": {
      "text/plain": [
       "(array([0, 1]), [Text(0, 0, ' Male'), Text(1, 0, ' Female')])"
      ]
     },
     "execution_count": 25,
     "metadata": {},
     "output_type": "execute_result"
    },
    {
     "data": {
      "image/png": "[encoded data removed]",
      "text/plain": [
       "<Figure size 432x288 with 1 Axes>"
      ]
     },
     "metadata": {
      "needs_background": "light"
     },
     "output_type": "display_data"
    }
   ],
   "source": [
    "sns.countplot(x = ReadAdultData['Sex'])\n",
    "plt.xticks(rotation = 90)"
   ]
  },
  {
   "cell_type": "markdown",
   "id": "ec3b4207",
   "metadata": {},
   "source": [
    "<h2>Captital Gain and Loss against Genders(sex)</h2>"
   ]
  },
  {
   "cell_type": "code",
   "execution_count": 26,
   "id": "821ddbf2",
   "metadata": {
    "scrolled": true
   },
   "outputs": [
    {
     "data": {
      "text/plain": [
       "(array([   0.,  200.,  400.,  600.,  800., 1000., 1200., 1400., 1600.]),\n",
       " [Text(0, 0, ''),\n",
       "  Text(0, 0, ''),\n",
       "  Text(0, 0, ''),\n",
       "  Text(0, 0, ''),\n",
       "  Text(0, 0, ''),\n",
       "  Text(0, 0, ''),\n",
       "  Text(0, 0, ''),\n",
       "  Text(0, 0, ''),\n",
       "  Text(0, 0, '')])"
      ]
     },
     "execution_count": 26,
     "metadata": {},
     "output_type": "execute_result"
    },
    {
     "data": {
      "image/png": "[encoded data removed]",
      "text/plain": [
       "<Figure size 432x288 with 1 Axes>"
      ]
     },
     "metadata": {
      "needs_background": "light"
     },
     "output_type": "display_data"
    }
   ],
   "source": [
    "sns.barplot(x = ReadAdultData['Capital_Gain'], y= ReadAdultData['Sex'])\n",
    "plt.xticks(rotation = 90)"
   ]
  },
  {
   "cell_type": "code",
   "execution_count": 27,
   "id": "014cc5f8",
   "metadata": {
    "scrolled": true
   },
   "outputs": [
    {
     "data": {
      "text/plain": [
       "(array([  0.,  20.,  40.,  60.,  80., 100., 120.]),\n",
       " [Text(0, 0, ''),\n",
       "  Text(0, 0, ''),\n",
       "  Text(0, 0, ''),\n",
       "  Text(0, 0, ''),\n",
       "  Text(0, 0, ''),\n",
       "  Text(0, 0, ''),\n",
       "  Text(0, 0, '')])"
      ]
     },
     "execution_count": 27,
     "metadata": {},
     "output_type": "execute_result"
    },
    {
     "data": {
      "image/png": "[encoded data removed]",
      "text/plain": [
       "<Figure size 432x288 with 1 Axes>"
      ]
     },
     "metadata": {
      "needs_background": "light"
     },
     "output_type": "display_data"
    }
   ],
   "source": [
    "sns.barplot(x = ReadAdultData['Capital_Loss'], y= ReadAdultData['Sex'])\n",
    "plt.xticks(rotation = 90)"
   ]
  },
  {
   "cell_type": "markdown",
   "id": "7b0bf087",
   "metadata": {},
   "source": [
    "<h3>Native Country Column</h3>"
   ]
  },
  {
   "cell_type": "code",
   "execution_count": 28,
   "id": "7530b61e",
   "metadata": {
    "scrolled": true
   },
   "outputs": [
    {
     "data": {
      "text/plain": [
       "(array([ 0,  1,  2,  3,  4,  5,  6,  7,  8,  9, 10, 11, 12, 13, 14, 15, 16,\n",
       "        17, 18, 19, 20, 21, 22, 23, 24, 25, 26, 27, 28, 29, 30, 31, 32, 33,\n",
       "        34, 35, 36, 37, 38, 39, 40, 41]),\n",
       " [Text(0, 0, ' United-States'),\n",
       "  Text(1, 0, ' Cuba'),\n",
       "  Text(2, 0, ' Jamaica'),\n",
       "  Text(3, 0, ' India'),\n",
       "  Text(4, 0, ' ?'),\n",
       "  Text(5, 0, ' Mexico'),\n",
       "  Text(6, 0, ' South'),\n",
       "  Text(7, 0, ' Puerto-Rico'),\n",
       "  Text(8, 0, ' Honduras'),\n",
       "  Text(9, 0, ' England'),\n",
       "  Text(10, 0, ' Canada'),\n",
       "  Text(11, 0, ' Germany'),\n",
       "  Text(12, 0, ' Iran'),\n",
       "  Text(13, 0, ' Philippines'),\n",
       "  Text(14, 0, ' Italy'),\n",
       "  Text(15, 0, ' Poland'),\n",
       "  Text(16, 0, ' Columbia'),\n",
       "  Text(17, 0, ' Cambodia'),\n",
       "  Text(18, 0, ' Thailand'),\n",
       "  Text(19, 0, ' Ecuador'),\n",
       "  Text(20, 0, ' Laos'),\n",
       "  Text(21, 0, ' Taiwan'),\n",
       "  Text(22, 0, ' Haiti'),\n",
       "  Text(23, 0, ' Portugal'),\n",
       "  Text(24, 0, ' Dominican-Republic'),\n",
       "  Text(25, 0, ' El-Salvador'),\n",
       "  Text(26, 0, ' France'),\n",
       "  Text(27, 0, ' Guatemala'),\n",
       "  Text(28, 0, ' China'),\n",
       "  Text(29, 0, ' Japan'),\n",
       "  Text(30, 0, ' Yugoslavia'),\n",
       "  Text(31, 0, ' Peru'),\n",
       "  Text(32, 0, ' Outlying-US(Guam-USVI-etc)'),\n",
       "  Text(33, 0, ' Scotland'),\n",
       "  Text(34, 0, ' Trinadad&Tobago'),\n",
       "  Text(35, 0, ' Greece'),\n",
       "  Text(36, 0, ' Nicaragua'),\n",
       "  Text(37, 0, ' Vietnam'),\n",
       "  Text(38, 0, ' Hong'),\n",
       "  Text(39, 0, ' Ireland'),\n",
       "  Text(40, 0, ' Hungary'),\n",
       "  Text(41, 0, ' Holand-Netherlands')])"
      ]
     },
     "execution_count": 28,
     "metadata": {},
     "output_type": "execute_result"
    },
    {
     "data": {
      "image/png": "[encoded data removed]",
      "text/plain": [
       "<Figure size 432x288 with 1 Axes>"
      ]
     },
     "metadata": {
      "needs_background": "light"
     },
     "output_type": "display_data"
    }
   ],
   "source": [
    "sns.countplot(x = ReadAdultData['Native_Country'])\n",
    "plt.xticks(rotation = 90)"
   ]
  },
  {
   "cell_type": "markdown",
   "id": "bcf7e07f",
   "metadata": {},
   "source": [
    "<h3>Income Column</h3>"
   ]
  },
  {
   "cell_type": "code",
   "execution_count": 29,
   "id": "f7894528",
   "metadata": {
    "scrolled": true
   },
   "outputs": [
    {
     "data": {
      "text/plain": [
       "(array([0, 1]), [Text(0, 0, ' <=50K'), Text(1, 0, ' >50K')])"
      ]
     },
     "execution_count": 29,
     "metadata": {},
     "output_type": "execute_result"
    },
    {
     "data": {
      "image/png": "[encoded data removed]",
      "text/plain": [
       "<Figure size 432x288 with 1 Axes>"
      ]
     },
     "metadata": {
      "needs_background": "light"
     },
     "output_type": "display_data"
    }
   ],
   "source": [
    "sns.countplot(x = ReadAdultData['Income'])\n",
    "plt.xticks(rotation = 90)"
   ]
  },
  {
   "cell_type": "markdown",
   "id": "502b55b2",
   "metadata": {},
   "source": [
    "<h3>Income and Race Column</h3>"
   ]
  },
  {
   "cell_type": "code",
   "execution_count": 30,
   "id": "3016d6d2",
   "metadata": {
    "scrolled": false
   },
   "outputs": [
    {
     "data": {
      "text/plain": [
       "<AxesSubplot:xlabel='Income', ylabel='count'>"
      ]
     },
     "execution_count": 30,
     "metadata": {},
     "output_type": "execute_result"
    },
    {
     "data": {
      "image/png": "[encoded data removed]",
      "text/plain": [
       "<Figure size 432x288 with 1 Axes>"
      ]
     },
     "metadata": {
      "needs_background": "light"
     },
     "output_type": "display_data"
    }
   ],
   "source": [
    "sns.countplot(x='Income', hue='Race', data = ReadAdultData)"
   ]
  },
  {
   "cell_type": "markdown",
   "id": "4df21930",
   "metadata": {},
   "source": [
    "<h3>Income and Gender Column</h3>"
   ]
  },
  {
   "cell_type": "code",
   "execution_count": 31,
   "id": "0d4c98e3",
   "metadata": {
    "scrolled": true
   },
   "outputs": [
    {
     "data": {
      "text/plain": [
       "<AxesSubplot:xlabel='Income', ylabel='count'>"
      ]
     },
     "execution_count": 31,
     "metadata": {},
     "output_type": "execute_result"
    },
    {
     "data": {
      "image/png": "[encoded data removed]",
      "text/plain": [
       "<Figure size 432x288 with 1 Axes>"
      ]
     },
     "metadata": {
      "needs_background": "light"
     },
     "output_type": "display_data"
    }
   ],
   "source": [
    "sns.countplot(x='Income', hue='Sex', data = ReadAdultData)"
   ]
  },
  {
   "cell_type": "markdown",
   "id": "9a0f54c7",
   "metadata": {},
   "source": [
    "<h3>Income and Workclass Column</h3>"
   ]
  },
  {
   "cell_type": "code",
   "execution_count": 32,
   "id": "ae82e10c",
   "metadata": {},
   "outputs": [
    {
     "data": {
      "text/plain": [
       "(array([0, 1, 2, 3, 4, 5, 6, 7, 8]),\n",
       " [Text(0, 0, ' State-gov'),\n",
       "  Text(1, 0, ' Self-emp-not-inc'),\n",
       "  Text(2, 0, ' Private'),\n",
       "  Text(3, 0, ' Federal-gov'),\n",
       "  Text(4, 0, ' Local-gov'),\n",
       "  Text(5, 0, ' ?'),\n",
       "  Text(6, 0, ' Self-emp-inc'),\n",
       "  Text(7, 0, ' Without-pay'),\n",
       "  Text(8, 0, ' Never-worked')])"
      ]
     },
     "execution_count": 32,
     "metadata": {},
     "output_type": "execute_result"
    },
    {
     "data": {
      "image/png": "[encoded data removed]",
      "text/plain": [
       "<Figure size 432x288 with 1 Axes>"
      ]
     },
     "metadata": {
      "needs_background": "light"
     },
     "output_type": "display_data"
    }
   ],
   "source": [
    "sns.countplot(x='Work_Class', hue='Income', data = ReadAdultData)\n",
    "plt.xticks(rotation = 90)"
   ]
  },
  {
   "cell_type": "markdown",
   "id": "f3936003",
   "metadata": {},
   "source": [
    "<h3>Income and Education Column</h3>"
   ]
  },
  {
   "cell_type": "code",
   "execution_count": 33,
   "id": "299941dd",
   "metadata": {},
   "outputs": [
    {
     "data": {
      "text/plain": [
       "(array([ 0,  1,  2,  3,  4,  5,  6,  7,  8,  9, 10, 11, 12, 13, 14, 15]),\n",
       " [Text(0, 0, ' Bachelors'),\n",
       "  Text(1, 0, ' HS-grad'),\n",
       "  Text(2, 0, ' 11th'),\n",
       "  Text(3, 0, ' Masters'),\n",
       "  Text(4, 0, ' 9th'),\n",
       "  Text(5, 0, ' Some-college'),\n",
       "  Text(6, 0, ' Assoc-acdm'),\n",
       "  Text(7, 0, ' Assoc-voc'),\n",
       "  Text(8, 0, ' 7th-8th'),\n",
       "  Text(9, 0, ' Doctorate'),\n",
       "  Text(10, 0, ' Prof-school'),\n",
       "  Text(11, 0, ' 5th-6th'),\n",
       "  Text(12, 0, ' 10th'),\n",
       "  Text(13, 0, ' 1st-4th'),\n",
       "  Text(14, 0, ' Preschool'),\n",
       "  Text(15, 0, ' 12th')])"
      ]
     },
     "execution_count": 33,
     "metadata": {},
     "output_type": "execute_result"
    },
    {
     "data": {
      "image/png": "[encoded data removed]",
      "text/plain": [
       "<Figure size 432x288 with 1 Axes>"
      ]
     },
     "metadata": {
      "needs_background": "light"
     },
     "output_type": "display_data"
    }
   ],
   "source": [
    "sns.countplot(x='Education', hue='Income', data = ReadAdultData)\n",
    "plt.xticks(rotation = 90)"
   ]
  },
  {
   "cell_type": "markdown",
   "id": "0c391fef",
   "metadata": {},
   "source": [
    "<h3>Income and Relationship Column</h3>"
   ]
  },
  {
   "cell_type": "code",
   "execution_count": 34,
   "id": "e1de1e46",
   "metadata": {
    "scrolled": false
   },
   "outputs": [
    {
     "data": {
      "text/plain": [
       "(array([0, 1, 2, 3, 4, 5]),\n",
       " [Text(0, 0, ' Not-in-family'),\n",
       "  Text(1, 0, ' Husband'),\n",
       "  Text(2, 0, ' Wife'),\n",
       "  Text(3, 0, ' Own-child'),\n",
       "  Text(4, 0, ' Unmarried'),\n",
       "  Text(5, 0, ' Other-relative')])"
      ]
     },
     "execution_count": 34,
     "metadata": {},
     "output_type": "execute_result"
    },
    {
     "data": {
      "image/png": "[encoded data removed]",
      "text/plain": [
       "<Figure size 432x288 with 1 Axes>"
      ]
     },
     "metadata": {
      "needs_background": "light"
     },
     "output_type": "display_data"
    }
   ],
   "source": [
    "sns.countplot(x='Relationship', hue='Income', data = ReadAdultData)\n",
    "plt.xticks(rotation = 90)"
   ]
  },
  {
   "cell_type": "markdown",
   "id": "43a8ee0a",
   "metadata": {},
   "source": [
    "<h3>Income and Occupation Column</h3>"
   ]
  },
  {
   "cell_type": "code",
   "execution_count": 35,
   "id": "945f2fd4",
   "metadata": {
    "scrolled": true
   },
   "outputs": [
    {
     "data": {
      "text/plain": [
       "(array([ 0,  1,  2,  3,  4,  5,  6,  7,  8,  9, 10, 11, 12, 13, 14]),\n",
       " [Text(0, 0, ' Adm-clerical'),\n",
       "  Text(1, 0, ' Exec-managerial'),\n",
       "  Text(2, 0, ' Handlers-cleaners'),\n",
       "  Text(3, 0, ' Prof-specialty'),\n",
       "  Text(4, 0, ' Other-service'),\n",
       "  Text(5, 0, ' Sales'),\n",
       "  Text(6, 0, ' Craft-repair'),\n",
       "  Text(7, 0, ' Transport-moving'),\n",
       "  Text(8, 0, ' Farming-fishing'),\n",
       "  Text(9, 0, ' Machine-op-inspct'),\n",
       "  Text(10, 0, ' Tech-support'),\n",
       "  Text(11, 0, ' ?'),\n",
       "  Text(12, 0, ' Protective-serv'),\n",
       "  Text(13, 0, ' Armed-Forces'),\n",
       "  Text(14, 0, ' Priv-house-serv')])"
      ]
     },
     "execution_count": 35,
     "metadata": {},
     "output_type": "execute_result"
    },
    {
     "data": {
      "image/png": "[encoded data removed]",
      "text/plain": [
       "<Figure size 432x288 with 1 Axes>"
      ]
     },
     "metadata": {
      "needs_background": "light"
     },
     "output_type": "display_data"
    }
   ],
   "source": [
    "sns.countplot(x='Occupation', hue='Income', data = ReadAdultData)\n",
    "plt.xticks(rotation = 90)"
   ]
  },
  {
   "cell_type": "markdown",
   "id": "269d606f",
   "metadata": {},
   "source": [
    "<h3>Columns that Contains Numerical Datasets</h3>"
   ]
  },
  {
   "cell_type": "code",
   "execution_count": 36,
   "id": "e7b13078",
   "metadata": {
    "scrolled": true
   },
   "outputs": [
    {
     "data": {
      "text/plain": [
       "array([[<AxesSubplot:title={'center':'Age'}>,\n",
       "        <AxesSubplot:title={'center':'Final_Weight'}>],\n",
       "       [<AxesSubplot:title={'center':'Education_Number_of_Years'}>,\n",
       "        <AxesSubplot:title={'center':'Capital_Gain'}>],\n",
       "       [<AxesSubplot:title={'center':'Capital_Loss'}>,\n",
       "        <AxesSubplot:title={'center':'Hours_per_Week'}>]], dtype=object)"
      ]
     },
     "execution_count": 36,
     "metadata": {},
     "output_type": "execute_result"
    },
    {
     "data": {
      "image/png": "[encoded data removed]",
      "text/plain": [
       "<Figure size 720x720 with 6 Axes>"
      ]
     },
     "metadata": {
      "needs_background": "light"
     },
     "output_type": "display_data"
    }
   ],
   "source": [
    "ReadAdultData.hist(figsize=(10,10))"
   ]
  },
  {
   "cell_type": "markdown",
   "id": "5a17f41e",
   "metadata": {},
   "source": [
    "<h3>Correlation between Numerical columns</h3>\n",
    "<p style=\"font-size:15px\">Income has 34% correlation with ‘Education_num’, 23% correlation with ‘hours_per_week’ and ‘age’, and 22% correlation with ‘Capital_gain’. The correlations are moderate.</p>"
   ]
  },
  {
   "cell_type": "code",
   "execution_count": 37,
   "id": "882ae54e",
   "metadata": {},
   "outputs": [
    {
     "data": {
      "text/plain": [
       "<AxesSubplot:>"
      ]
     },
     "execution_count": 37,
     "metadata": {},
     "output_type": "execute_result"
    },
    {
     "data": {
      "image/png": "[encoded data removed]",
      "text/plain": [
       "<Figure size 432x288 with 2 Axes>"
      ]
     },
     "metadata": {
      "needs_background": "light"
     },
     "output_type": "display_data"
    }
   ],
   "source": [
    "sns.heatmap(ReadAdultData.corr(), annot=True)"
   ]
  },
  {
   "cell_type": "markdown",
   "id": "bdfc7fb6",
   "metadata": {},
   "source": [
    "<h2> Capture the columns with missing values and work on them using mode</h2>"
   ]
  },
  {
   "cell_type": "code",
   "execution_count": 38,
   "id": "75a4086d",
   "metadata": {},
   "outputs": [],
   "source": [
    "missingVualuesColumn = ['Work_Class', 'Occupation', 'Native_Country']\n",
    "for col in missingVualuesColumn:\n",
    "      ReadAdultData[col].fillna(ReadAdultData[col].mode()[0], inplace=True)"
   ]
  },
  {
   "cell_type": "markdown",
   "id": "2957ba95",
   "metadata": {},
   "source": [
    "<h2> Conversion of categorical to numerical</h2>"
   ]
  },
  {
   "cell_type": "code",
   "execution_count": 39,
   "id": "606a9cd6",
   "metadata": {},
   "outputs": [
    {
     "data": {
      "text/plain": [
       "Index(['Age', 'Work_Class', 'Final_Weight', 'Education',\n",
       "       'Education_Number_of_Years', 'Marital_Status', 'Occupation',\n",
       "       'Relationship', 'Race', 'Sex', 'Capital_Gain', 'Capital_Loss',\n",
       "       'Hours_per_Week', 'Native_Country', 'Income'],\n",
       "      dtype='object')"
      ]
     },
     "execution_count": 39,
     "metadata": {},
     "output_type": "execute_result"
    }
   ],
   "source": [
    "from sklearn.preprocessing import LabelEncoder\n",
    "ConvertCat =  LabelEncoder()\n",
    "ReadAdultData.columns"
   ]
  },
  {
   "cell_type": "markdown",
   "id": "7b102544",
   "metadata": {},
   "source": [
    "<h2>Select Categorical Columns to Encode</h2>"
   ]
  },
  {
   "cell_type": "markdown",
   "id": "a5d374bc",
   "metadata": {},
   "source": [
    "<h2>Check for the uniqueness of the income column and convert it to 0's ad 1's</h2>"
   ]
  },
  {
   "cell_type": "code",
   "execution_count": 40,
   "id": "47dcfc3c",
   "metadata": {},
   "outputs": [],
   "source": [
    "cat_col_to_encode= ['Work_Class','Education','Marital_Status', 'Occupation', 'Relationship', 'Race','Sex','Native_Country']"
   ]
  },
  {
   "cell_type": "code",
   "execution_count": 41,
   "id": "90aa2402",
   "metadata": {},
   "outputs": [
    {
     "name": "stdout",
     "output_type": "stream",
     "text": [
      "[' <=50K' ' >50K']\n"
     ]
    }
   ],
   "source": [
    "print(pd.unique(ReadAdultData['Income']))"
   ]
  },
  {
   "cell_type": "code",
   "execution_count": 42,
   "id": "0052804d",
   "metadata": {},
   "outputs": [],
   "source": [
    "def income(options):\n",
    "    if options == ' <=50K':\n",
    "        return 0\n",
    "    if options == ' >50K':\n",
    "        return 1"
   ]
  },
  {
   "cell_type": "code",
   "execution_count": 43,
   "id": "c59ee1bd",
   "metadata": {},
   "outputs": [],
   "source": [
    "ReadAdultData['Income'] = ReadAdultData['Income'].apply(income)"
   ]
  },
  {
   "cell_type": "code",
   "execution_count": 44,
   "id": "e2b48d91",
   "metadata": {},
   "outputs": [
    {
     "data": {
      "text/plain": [
       "0        0\n",
       "1        0\n",
       "2        0\n",
       "3        0\n",
       "4        0\n",
       "        ..\n",
       "32556    0\n",
       "32557    1\n",
       "32558    0\n",
       "32559    0\n",
       "32560    1\n",
       "Name: Income, Length: 32561, dtype: int64"
      ]
     },
     "execution_count": 44,
     "metadata": {},
     "output_type": "execute_result"
    }
   ],
   "source": [
    "ReadAdultData['Income']"
   ]
  },
  {
   "cell_type": "code",
   "execution_count": 45,
   "id": "b33d595a",
   "metadata": {},
   "outputs": [],
   "source": [
    "ReadAdultData_new = pd.get_dummies(ReadAdultData, columns=cat_col_to_encode, drop_first=True)"
   ]
  },
  {
   "cell_type": "code",
   "execution_count": 46,
   "id": "41abbaea",
   "metadata": {
    "scrolled": true
   },
   "outputs": [
    {
     "data": {
      "text/html": [
       "<div>\n",
       "<style scoped>\n",
       "    .dataframe tbody tr th:only-of-type {\n",
       "        vertical-align: middle;\n",
       "    }\n",
       "\n",
       "    .dataframe tbody tr th {\n",
       "        vertical-align: top;\n",
       "    }\n",
       "\n",
       "    .dataframe thead th {\n",
       "        text-align: right;\n",
       "    }\n",
       "</style>\n",
       "<table border=\"1\" class=\"dataframe\">\n",
       "  <thead>\n",
       "    <tr style=\"text-align: right;\">\n",
       "      <th></th>\n",
       "      <th>Age</th>\n",
       "      <th>Final_Weight</th>\n",
       "      <th>Education_Number_of_Years</th>\n",
       "      <th>Capital_Gain</th>\n",
       "      <th>Capital_Loss</th>\n",
       "      <th>Hours_per_Week</th>\n",
       "      <th>Income</th>\n",
       "      <th>Work_Class_ Federal-gov</th>\n",
       "      <th>Work_Class_ Local-gov</th>\n",
       "      <th>Work_Class_ Never-worked</th>\n",
       "      <th>...</th>\n",
       "      <th>Native_Country_ Portugal</th>\n",
       "      <th>Native_Country_ Puerto-Rico</th>\n",
       "      <th>Native_Country_ Scotland</th>\n",
       "      <th>Native_Country_ South</th>\n",
       "      <th>Native_Country_ Taiwan</th>\n",
       "      <th>Native_Country_ Thailand</th>\n",
       "      <th>Native_Country_ Trinadad&amp;Tobago</th>\n",
       "      <th>Native_Country_ United-States</th>\n",
       "      <th>Native_Country_ Vietnam</th>\n",
       "      <th>Native_Country_ Yugoslavia</th>\n",
       "    </tr>\n",
       "  </thead>\n",
       "  <tbody>\n",
       "    <tr>\n",
       "      <th>0</th>\n",
       "      <td>39</td>\n",
       "      <td>77516</td>\n",
       "      <td>13</td>\n",
       "      <td>2174</td>\n",
       "      <td>0</td>\n",
       "      <td>40</td>\n",
       "      <td>0</td>\n",
       "      <td>0</td>\n",
       "      <td>0</td>\n",
       "      <td>0</td>\n",
       "      <td>...</td>\n",
       "      <td>0</td>\n",
       "      <td>0</td>\n",
       "      <td>0</td>\n",
       "      <td>0</td>\n",
       "      <td>0</td>\n",
       "      <td>0</td>\n",
       "      <td>0</td>\n",
       "      <td>1</td>\n",
       "      <td>0</td>\n",
       "      <td>0</td>\n",
       "    </tr>\n",
       "    <tr>\n",
       "      <th>1</th>\n",
       "      <td>50</td>\n",
       "      <td>83311</td>\n",
       "      <td>13</td>\n",
       "      <td>0</td>\n",
       "      <td>0</td>\n",
       "      <td>13</td>\n",
       "      <td>0</td>\n",
       "      <td>0</td>\n",
       "      <td>0</td>\n",
       "      <td>0</td>\n",
       "      <td>...</td>\n",
       "      <td>0</td>\n",
       "      <td>0</td>\n",
       "      <td>0</td>\n",
       "      <td>0</td>\n",
       "      <td>0</td>\n",
       "      <td>0</td>\n",
       "      <td>0</td>\n",
       "      <td>1</td>\n",
       "      <td>0</td>\n",
       "      <td>0</td>\n",
       "    </tr>\n",
       "    <tr>\n",
       "      <th>2</th>\n",
       "      <td>38</td>\n",
       "      <td>215646</td>\n",
       "      <td>9</td>\n",
       "      <td>0</td>\n",
       "      <td>0</td>\n",
       "      <td>40</td>\n",
       "      <td>0</td>\n",
       "      <td>0</td>\n",
       "      <td>0</td>\n",
       "      <td>0</td>\n",
       "      <td>...</td>\n",
       "      <td>0</td>\n",
       "      <td>0</td>\n",
       "      <td>0</td>\n",
       "      <td>0</td>\n",
       "      <td>0</td>\n",
       "      <td>0</td>\n",
       "      <td>0</td>\n",
       "      <td>1</td>\n",
       "      <td>0</td>\n",
       "      <td>0</td>\n",
       "    </tr>\n",
       "    <tr>\n",
       "      <th>3</th>\n",
       "      <td>53</td>\n",
       "      <td>234721</td>\n",
       "      <td>7</td>\n",
       "      <td>0</td>\n",
       "      <td>0</td>\n",
       "      <td>40</td>\n",
       "      <td>0</td>\n",
       "      <td>0</td>\n",
       "      <td>0</td>\n",
       "      <td>0</td>\n",
       "      <td>...</td>\n",
       "      <td>0</td>\n",
       "      <td>0</td>\n",
       "      <td>0</td>\n",
       "      <td>0</td>\n",
       "      <td>0</td>\n",
       "      <td>0</td>\n",
       "      <td>0</td>\n",
       "      <td>1</td>\n",
       "      <td>0</td>\n",
       "      <td>0</td>\n",
       "    </tr>\n",
       "    <tr>\n",
       "      <th>4</th>\n",
       "      <td>28</td>\n",
       "      <td>338409</td>\n",
       "      <td>13</td>\n",
       "      <td>0</td>\n",
       "      <td>0</td>\n",
       "      <td>40</td>\n",
       "      <td>0</td>\n",
       "      <td>0</td>\n",
       "      <td>0</td>\n",
       "      <td>0</td>\n",
       "      <td>...</td>\n",
       "      <td>0</td>\n",
       "      <td>0</td>\n",
       "      <td>0</td>\n",
       "      <td>0</td>\n",
       "      <td>0</td>\n",
       "      <td>0</td>\n",
       "      <td>0</td>\n",
       "      <td>0</td>\n",
       "      <td>0</td>\n",
       "      <td>0</td>\n",
       "    </tr>\n",
       "  </tbody>\n",
       "</table>\n",
       "<p>5 rows × 101 columns</p>\n",
       "</div>"
      ],
      "text/plain": [
       "   Age  Final_Weight  Education_Number_of_Years  Capital_Gain  Capital_Loss  \\\n",
       "0   39         77516                         13          2174             0   \n",
       "1   50         83311                         13             0             0   \n",
       "2   38        215646                          9             0             0   \n",
       "3   53        234721                          7             0             0   \n",
       "4   28        338409                         13             0             0   \n",
       "\n",
       "   Hours_per_Week  Income  Work_Class_ Federal-gov  Work_Class_ Local-gov  \\\n",
       "0              40       0                        0                      0   \n",
       "1              13       0                        0                      0   \n",
       "2              40       0                        0                      0   \n",
       "3              40       0                        0                      0   \n",
       "4              40       0                        0                      0   \n",
       "\n",
       "   Work_Class_ Never-worked  ...  Native_Country_ Portugal  \\\n",
       "0                         0  ...                         0   \n",
       "1                         0  ...                         0   \n",
       "2                         0  ...                         0   \n",
       "3                         0  ...                         0   \n",
       "4                         0  ...                         0   \n",
       "\n",
       "   Native_Country_ Puerto-Rico  Native_Country_ Scotland  \\\n",
       "0                            0                         0   \n",
       "1                            0                         0   \n",
       "2                            0                         0   \n",
       "3                            0                         0   \n",
       "4                            0                         0   \n",
       "\n",
       "   Native_Country_ South  Native_Country_ Taiwan  Native_Country_ Thailand  \\\n",
       "0                      0                       0                         0   \n",
       "1                      0                       0                         0   \n",
       "2                      0                       0                         0   \n",
       "3                      0                       0                         0   \n",
       "4                      0                       0                         0   \n",
       "\n",
       "   Native_Country_ Trinadad&Tobago  Native_Country_ United-States  \\\n",
       "0                                0                              1   \n",
       "1                                0                              1   \n",
       "2                                0                              1   \n",
       "3                                0                              1   \n",
       "4                                0                              0   \n",
       "\n",
       "   Native_Country_ Vietnam  Native_Country_ Yugoslavia  \n",
       "0                        0                           0  \n",
       "1                        0                           0  \n",
       "2                        0                           0  \n",
       "3                        0                           0  \n",
       "4                        0                           0  \n",
       "\n",
       "[5 rows x 101 columns]"
      ]
     },
     "execution_count": 46,
     "metadata": {},
     "output_type": "execute_result"
    }
   ],
   "source": [
    "ReadAdultData_new.head()"
   ]
  },
  {
   "cell_type": "markdown",
   "id": "a10f78ef",
   "metadata": {},
   "source": [
    "<h2>Normalization of DataSet</h2>\n",
    "<p>The next step is to normalize the data, since there are certain columns with very small values and some columns with high values. This process is important as values on a similar scale allow the model to learn better.\n",
    "We use standard scaler for this process –\n",
    "‘StandardScaler follows Standard Normal Distribution (SND). Therefore, it makes mean = 0 and scales the data to unit variance’</p>"
   ]
  },
  {
   "cell_type": "code",
   "execution_count": 47,
   "id": "ec0ea0bc",
   "metadata": {},
   "outputs": [],
   "source": [
    "from sklearn.preprocessing import StandardScaler"
   ]
  },
  {
   "cell_type": "code",
   "execution_count": 48,
   "id": "f55c6396",
   "metadata": {},
   "outputs": [],
   "source": [
    "ScalerData = StandardScaler()"
   ]
  },
  {
   "cell_type": "code",
   "execution_count": 49,
   "id": "4710ed67",
   "metadata": {},
   "outputs": [
    {
     "name": "stdout",
     "output_type": "stream",
     "text": [
      "0        0\n",
      "1        0\n",
      "2        0\n",
      "3        0\n",
      "4        0\n",
      "        ..\n",
      "32556    0\n",
      "32557    1\n",
      "32558    0\n",
      "32559    0\n",
      "32560    1\n",
      "Name: Income, Length: 32561, dtype: int64\n"
     ]
    }
   ],
   "source": [
    "ScalingData = ReadAdultData_new.drop('Income', axis='columns')\n",
    "dataY = ReadAdultData_new['Income']\n",
    "print(dataY)"
   ]
  },
  {
   "cell_type": "code",
   "execution_count": 50,
   "id": "8177743e",
   "metadata": {},
   "outputs": [
    {
     "name": "stdout",
     "output_type": "stream",
     "text": [
      "            Age  Final_Weight  Education_Number_of_Years  Capital_Gain  \\\n",
      "0      0.030671     -1.063611                   1.134739      0.148453   \n",
      "1      0.837109     -1.008707                   1.134739     -0.145920   \n",
      "2     -0.042642      0.245079                  -0.420060     -0.145920   \n",
      "3      1.057047      0.425801                  -1.197459     -0.145920   \n",
      "4     -0.775768      1.408176                   1.134739     -0.145920   \n",
      "...         ...           ...                        ...           ...   \n",
      "32556 -0.849080      0.639741                   0.746039     -0.145920   \n",
      "32557  0.103983     -0.335433                  -0.420060     -0.145920   \n",
      "32558  1.423610     -0.358777                  -0.420060     -0.145920   \n",
      "32559 -1.215643      0.110960                  -0.420060     -0.145920   \n",
      "32560  0.983734      0.929893                  -0.420060      1.888424   \n",
      "\n",
      "       Capital_Loss  Hours_per_Week  Work_Class_ Federal-gov  \\\n",
      "0          -0.21666       -0.035429                -0.174295   \n",
      "1          -0.21666       -2.222153                -0.174295   \n",
      "2          -0.21666       -0.035429                -0.174295   \n",
      "3          -0.21666       -0.035429                -0.174295   \n",
      "4          -0.21666       -0.035429                -0.174295   \n",
      "...             ...             ...                      ...   \n",
      "32556      -0.21666       -0.197409                -0.174295   \n",
      "32557      -0.21666       -0.035429                -0.174295   \n",
      "32558      -0.21666       -0.035429                -0.174295   \n",
      "32559      -0.21666       -1.655225                -0.174295   \n",
      "32560      -0.21666       -0.035429                -0.174295   \n",
      "\n",
      "       Work_Class_ Local-gov  Work_Class_ Never-worked  Work_Class_ Private  \\\n",
      "0                  -0.262097                 -0.014664            -1.516792   \n",
      "1                  -0.262097                 -0.014664            -1.516792   \n",
      "2                  -0.262097                 -0.014664             0.659286   \n",
      "3                  -0.262097                 -0.014664             0.659286   \n",
      "4                  -0.262097                 -0.014664             0.659286   \n",
      "...                      ...                       ...                  ...   \n",
      "32556              -0.262097                 -0.014664             0.659286   \n",
      "32557              -0.262097                 -0.014664             0.659286   \n",
      "32558              -0.262097                 -0.014664             0.659286   \n",
      "32559              -0.262097                 -0.014664             0.659286   \n",
      "32560              -0.262097                 -0.014664            -1.516792   \n",
      "\n",
      "       ...  Native_Country_ Portugal  Native_Country_ Puerto-Rico  \\\n",
      "0      ...                 -0.033729                    -0.059274   \n",
      "1      ...                 -0.033729                    -0.059274   \n",
      "2      ...                 -0.033729                    -0.059274   \n",
      "3      ...                 -0.033729                    -0.059274   \n",
      "4      ...                 -0.033729                    -0.059274   \n",
      "...    ...                       ...                          ...   \n",
      "32556  ...                 -0.033729                    -0.059274   \n",
      "32557  ...                 -0.033729                    -0.059274   \n",
      "32558  ...                 -0.033729                    -0.059274   \n",
      "32559  ...                 -0.033729                    -0.059274   \n",
      "32560  ...                 -0.033729                    -0.059274   \n",
      "\n",
      "       Native_Country_ Scotland  Native_Country_ South  \\\n",
      "0                     -0.019201              -0.049628   \n",
      "1                     -0.019201              -0.049628   \n",
      "2                     -0.019201              -0.049628   \n",
      "3                     -0.019201              -0.049628   \n",
      "4                     -0.019201              -0.049628   \n",
      "...                         ...                    ...   \n",
      "32556                 -0.019201              -0.049628   \n",
      "32557                 -0.019201              -0.049628   \n",
      "32558                 -0.019201              -0.049628   \n",
      "32559                 -0.019201              -0.049628   \n",
      "32560                 -0.019201              -0.049628   \n",
      "\n",
      "       Native_Country_ Taiwan  Native_Country_ Thailand  \\\n",
      "0                   -0.039607                 -0.023518   \n",
      "1                   -0.039607                 -0.023518   \n",
      "2                   -0.039607                 -0.023518   \n",
      "3                   -0.039607                 -0.023518   \n",
      "4                   -0.039607                 -0.023518   \n",
      "...                       ...                       ...   \n",
      "32556               -0.039607                 -0.023518   \n",
      "32557               -0.039607                 -0.023518   \n",
      "32558               -0.039607                 -0.023518   \n",
      "32559               -0.039607                 -0.023518   \n",
      "32560               -0.039607                 -0.023518   \n",
      "\n",
      "       Native_Country_ Trinadad&Tobago  Native_Country_ United-States  \\\n",
      "0                            -0.024163                       0.340954   \n",
      "1                            -0.024163                       0.340954   \n",
      "2                            -0.024163                       0.340954   \n",
      "3                            -0.024163                       0.340954   \n",
      "4                            -0.024163                      -2.932948   \n",
      "...                                ...                            ...   \n",
      "32556                        -0.024163                       0.340954   \n",
      "32557                        -0.024163                       0.340954   \n",
      "32558                        -0.024163                       0.340954   \n",
      "32559                        -0.024163                       0.340954   \n",
      "32560                        -0.024163                       0.340954   \n",
      "\n",
      "       Native_Country_ Vietnam  Native_Country_ Yugoslavia  \n",
      "0                    -0.045408                   -0.022173  \n",
      "1                    -0.045408                   -0.022173  \n",
      "2                    -0.045408                   -0.022173  \n",
      "3                    -0.045408                   -0.022173  \n",
      "4                    -0.045408                   -0.022173  \n",
      "...                        ...                         ...  \n",
      "32556                -0.045408                   -0.022173  \n",
      "32557                -0.045408                   -0.022173  \n",
      "32558                -0.045408                   -0.022173  \n",
      "32559                -0.045408                   -0.022173  \n",
      "32560                -0.045408                   -0.022173  \n",
      "\n",
      "[32561 rows x 100 columns]\n"
     ]
    }
   ],
   "source": [
    "ScaledData = ScalerData.fit_transform(ScalingData)\n",
    "dataX = pd.DataFrame(ScaledData, columns=ScalingData.columns)\n",
    "print(dataX)"
   ]
  },
  {
   "cell_type": "code",
   "execution_count": 51,
   "id": "aab065d4",
   "metadata": {},
   "outputs": [
    {
     "data": {
      "text/html": [
       "<div>\n",
       "<style scoped>\n",
       "    .dataframe tbody tr th:only-of-type {\n",
       "        vertical-align: middle;\n",
       "    }\n",
       "\n",
       "    .dataframe tbody tr th {\n",
       "        vertical-align: top;\n",
       "    }\n",
       "\n",
       "    .dataframe thead th {\n",
       "        text-align: right;\n",
       "    }\n",
       "</style>\n",
       "<table border=\"1\" class=\"dataframe\">\n",
       "  <thead>\n",
       "    <tr style=\"text-align: right;\">\n",
       "      <th></th>\n",
       "      <th>Income</th>\n",
       "      <th>Age</th>\n",
       "      <th>Final_Weight</th>\n",
       "      <th>Education_Number_of_Years</th>\n",
       "      <th>Capital_Gain</th>\n",
       "      <th>Capital_Loss</th>\n",
       "      <th>Hours_per_Week</th>\n",
       "      <th>Work_Class_ Federal-gov</th>\n",
       "      <th>Work_Class_ Local-gov</th>\n",
       "      <th>Work_Class_ Never-worked</th>\n",
       "      <th>...</th>\n",
       "      <th>Native_Country_ Portugal</th>\n",
       "      <th>Native_Country_ Puerto-Rico</th>\n",
       "      <th>Native_Country_ Scotland</th>\n",
       "      <th>Native_Country_ South</th>\n",
       "      <th>Native_Country_ Taiwan</th>\n",
       "      <th>Native_Country_ Thailand</th>\n",
       "      <th>Native_Country_ Trinadad&amp;Tobago</th>\n",
       "      <th>Native_Country_ United-States</th>\n",
       "      <th>Native_Country_ Vietnam</th>\n",
       "      <th>Native_Country_ Yugoslavia</th>\n",
       "    </tr>\n",
       "  </thead>\n",
       "  <tbody>\n",
       "    <tr>\n",
       "      <th>0</th>\n",
       "      <td>0</td>\n",
       "      <td>0.030671</td>\n",
       "      <td>-1.063611</td>\n",
       "      <td>1.134739</td>\n",
       "      <td>0.148453</td>\n",
       "      <td>-0.21666</td>\n",
       "      <td>-0.035429</td>\n",
       "      <td>-0.174295</td>\n",
       "      <td>-0.262097</td>\n",
       "      <td>-0.014664</td>\n",
       "      <td>...</td>\n",
       "      <td>-0.033729</td>\n",
       "      <td>-0.059274</td>\n",
       "      <td>-0.019201</td>\n",
       "      <td>-0.049628</td>\n",
       "      <td>-0.039607</td>\n",
       "      <td>-0.023518</td>\n",
       "      <td>-0.024163</td>\n",
       "      <td>0.340954</td>\n",
       "      <td>-0.045408</td>\n",
       "      <td>-0.022173</td>\n",
       "    </tr>\n",
       "    <tr>\n",
       "      <th>1</th>\n",
       "      <td>0</td>\n",
       "      <td>0.837109</td>\n",
       "      <td>-1.008707</td>\n",
       "      <td>1.134739</td>\n",
       "      <td>-0.145920</td>\n",
       "      <td>-0.21666</td>\n",
       "      <td>-2.222153</td>\n",
       "      <td>-0.174295</td>\n",
       "      <td>-0.262097</td>\n",
       "      <td>-0.014664</td>\n",
       "      <td>...</td>\n",
       "      <td>-0.033729</td>\n",
       "      <td>-0.059274</td>\n",
       "      <td>-0.019201</td>\n",
       "      <td>-0.049628</td>\n",
       "      <td>-0.039607</td>\n",
       "      <td>-0.023518</td>\n",
       "      <td>-0.024163</td>\n",
       "      <td>0.340954</td>\n",
       "      <td>-0.045408</td>\n",
       "      <td>-0.022173</td>\n",
       "    </tr>\n",
       "    <tr>\n",
       "      <th>2</th>\n",
       "      <td>0</td>\n",
       "      <td>-0.042642</td>\n",
       "      <td>0.245079</td>\n",
       "      <td>-0.420060</td>\n",
       "      <td>-0.145920</td>\n",
       "      <td>-0.21666</td>\n",
       "      <td>-0.035429</td>\n",
       "      <td>-0.174295</td>\n",
       "      <td>-0.262097</td>\n",
       "      <td>-0.014664</td>\n",
       "      <td>...</td>\n",
       "      <td>-0.033729</td>\n",
       "      <td>-0.059274</td>\n",
       "      <td>-0.019201</td>\n",
       "      <td>-0.049628</td>\n",
       "      <td>-0.039607</td>\n",
       "      <td>-0.023518</td>\n",
       "      <td>-0.024163</td>\n",
       "      <td>0.340954</td>\n",
       "      <td>-0.045408</td>\n",
       "      <td>-0.022173</td>\n",
       "    </tr>\n",
       "    <tr>\n",
       "      <th>3</th>\n",
       "      <td>0</td>\n",
       "      <td>1.057047</td>\n",
       "      <td>0.425801</td>\n",
       "      <td>-1.197459</td>\n",
       "      <td>-0.145920</td>\n",
       "      <td>-0.21666</td>\n",
       "      <td>-0.035429</td>\n",
       "      <td>-0.174295</td>\n",
       "      <td>-0.262097</td>\n",
       "      <td>-0.014664</td>\n",
       "      <td>...</td>\n",
       "      <td>-0.033729</td>\n",
       "      <td>-0.059274</td>\n",
       "      <td>-0.019201</td>\n",
       "      <td>-0.049628</td>\n",
       "      <td>-0.039607</td>\n",
       "      <td>-0.023518</td>\n",
       "      <td>-0.024163</td>\n",
       "      <td>0.340954</td>\n",
       "      <td>-0.045408</td>\n",
       "      <td>-0.022173</td>\n",
       "    </tr>\n",
       "    <tr>\n",
       "      <th>4</th>\n",
       "      <td>0</td>\n",
       "      <td>-0.775768</td>\n",
       "      <td>1.408176</td>\n",
       "      <td>1.134739</td>\n",
       "      <td>-0.145920</td>\n",
       "      <td>-0.21666</td>\n",
       "      <td>-0.035429</td>\n",
       "      <td>-0.174295</td>\n",
       "      <td>-0.262097</td>\n",
       "      <td>-0.014664</td>\n",
       "      <td>...</td>\n",
       "      <td>-0.033729</td>\n",
       "      <td>-0.059274</td>\n",
       "      <td>-0.019201</td>\n",
       "      <td>-0.049628</td>\n",
       "      <td>-0.039607</td>\n",
       "      <td>-0.023518</td>\n",
       "      <td>-0.024163</td>\n",
       "      <td>-2.932948</td>\n",
       "      <td>-0.045408</td>\n",
       "      <td>-0.022173</td>\n",
       "    </tr>\n",
       "  </tbody>\n",
       "</table>\n",
       "<p>5 rows × 101 columns</p>\n",
       "</div>"
      ],
      "text/plain": [
       "   Income       Age  Final_Weight  Education_Number_of_Years  Capital_Gain  \\\n",
       "0       0  0.030671     -1.063611                   1.134739      0.148453   \n",
       "1       0  0.837109     -1.008707                   1.134739     -0.145920   \n",
       "2       0 -0.042642      0.245079                  -0.420060     -0.145920   \n",
       "3       0  1.057047      0.425801                  -1.197459     -0.145920   \n",
       "4       0 -0.775768      1.408176                   1.134739     -0.145920   \n",
       "\n",
       "   Capital_Loss  Hours_per_Week  Work_Class_ Federal-gov  \\\n",
       "0      -0.21666       -0.035429                -0.174295   \n",
       "1      -0.21666       -2.222153                -0.174295   \n",
       "2      -0.21666       -0.035429                -0.174295   \n",
       "3      -0.21666       -0.035429                -0.174295   \n",
       "4      -0.21666       -0.035429                -0.174295   \n",
       "\n",
       "   Work_Class_ Local-gov  Work_Class_ Never-worked  ...  \\\n",
       "0              -0.262097                 -0.014664  ...   \n",
       "1              -0.262097                 -0.014664  ...   \n",
       "2              -0.262097                 -0.014664  ...   \n",
       "3              -0.262097                 -0.014664  ...   \n",
       "4              -0.262097                 -0.014664  ...   \n",
       "\n",
       "   Native_Country_ Portugal  Native_Country_ Puerto-Rico  \\\n",
       "0                 -0.033729                    -0.059274   \n",
       "1                 -0.033729                    -0.059274   \n",
       "2                 -0.033729                    -0.059274   \n",
       "3                 -0.033729                    -0.059274   \n",
       "4                 -0.033729                    -0.059274   \n",
       "\n",
       "   Native_Country_ Scotland  Native_Country_ South  Native_Country_ Taiwan  \\\n",
       "0                 -0.019201              -0.049628               -0.039607   \n",
       "1                 -0.019201              -0.049628               -0.039607   \n",
       "2                 -0.019201              -0.049628               -0.039607   \n",
       "3                 -0.019201              -0.049628               -0.039607   \n",
       "4                 -0.019201              -0.049628               -0.039607   \n",
       "\n",
       "   Native_Country_ Thailand  Native_Country_ Trinadad&Tobago  \\\n",
       "0                 -0.023518                        -0.024163   \n",
       "1                 -0.023518                        -0.024163   \n",
       "2                 -0.023518                        -0.024163   \n",
       "3                 -0.023518                        -0.024163   \n",
       "4                 -0.023518                        -0.024163   \n",
       "\n",
       "   Native_Country_ United-States  Native_Country_ Vietnam  \\\n",
       "0                       0.340954                -0.045408   \n",
       "1                       0.340954                -0.045408   \n",
       "2                       0.340954                -0.045408   \n",
       "3                       0.340954                -0.045408   \n",
       "4                      -2.932948                -0.045408   \n",
       "\n",
       "   Native_Country_ Yugoslavia  \n",
       "0                   -0.022173  \n",
       "1                   -0.022173  \n",
       "2                   -0.022173  \n",
       "3                   -0.022173  \n",
       "4                   -0.022173  \n",
       "\n",
       "[5 rows x 101 columns]"
      ]
     },
     "execution_count": 51,
     "metadata": {},
     "output_type": "execute_result"
    }
   ],
   "source": [
    "training_data = pd.concat([dataY, dataX], axis=1,join='inner')\n",
    "training_data.head()"
   ]
  },
  {
   "cell_type": "markdown",
   "id": "8ec5f781",
   "metadata": {},
   "source": [
    "<h2>Feature Selection</h2>"
   ]
  },
  {
   "cell_type": "code",
   "execution_count": 52,
   "id": "7b7dd986",
   "metadata": {},
   "outputs": [],
   "source": [
    "from sklearn.feature_selection import SelectKBest,chi2\n",
    "np.seterr(divide='ignore',invalid='ignore')\n",
    "Feature_selector=SelectKBest(k=training_data.shape[1])"
   ]
  },
  {
   "cell_type": "code",
   "execution_count": 53,
   "id": "8cbedc60",
   "metadata": {},
   "outputs": [],
   "source": [
    "training_selected_features=Feature_selector.fit_transform(training_data, dataY)\n",
    "selected_cols = Feature_selector.get_support(indices=True)\n",
    "\n",
    "# selected features\n",
    "selected_feature_names = training_data.columns.values[selected_cols]\n",
    "training_selected_features = pd.DataFrame(training_selected_features)"
   ]
  },
  {
   "cell_type": "code",
   "execution_count": 54,
   "id": "2e041d4e",
   "metadata": {},
   "outputs": [],
   "source": [
    "scores = Feature_selector.scores_[Feature_selector.get_support()]\n",
    "selected_feature_names_scores = list(zip(selected_feature_names, scores))"
   ]
  },
  {
   "cell_type": "code",
   "execution_count": 55,
   "id": "8ed2b237",
   "metadata": {},
   "outputs": [],
   "source": [
    "Feat_F1score_combined = pd.DataFrame(data = selected_feature_names_scores, columns=['Feature_names', 'F_Scores'])\n",
    "Feat_F1score_combined = Feat_F1score_combined.sort_values(['F_Scores', 'Feature_names'], ascending = [False, True])"
   ]
  },
  {
   "cell_type": "code",
   "execution_count": 56,
   "id": "a57b200a",
   "metadata": {},
   "outputs": [
    {
     "data": {
      "image/png": "[encoded data removed]",
      "text/plain": [
       "<Figure size 1296x576 with 1 Axes>"
      ]
     },
     "metadata": {
      "needs_background": "light"
     },
     "output_type": "display_data"
    }
   ],
   "source": [
    "Feat_F1score_combined.plot(x='Feature_names',y='F_Scores',kind='bar',title='Fscores of features arranged in accordance with their importance using SelectKBest method',figsize=(18,8))\n",
    "#Setting the F score threshold as 30, we get a total of 30 features which have F scores beyond this value\n",
    "\n",
    "kbest_selector=SelectKBest(k=15)\n",
    "training_selected_features=kbest_selector.fit_transform(training_data,dataY)"
   ]
  },
  {
   "cell_type": "markdown",
   "id": "4584f555",
   "metadata": {},
   "source": [
    "<h2>Models</h2>"
   ]
  },
  {
   "cell_type": "code",
   "execution_count": 57,
   "id": "5c8ce2f9",
   "metadata": {},
   "outputs": [],
   "source": [
    "from sklearn.tree import DecisionTreeClassifier\n",
    "from sklearn.naive_bayes import GaussianNB\n",
    "from sklearn.linear_model import LogisticRegression\n",
    "from sklearn.svm import SVC\n",
    "from sklearn.neighbors import KNeighborsClassifier\n",
    "from sklearn.model_selection import train_test_split\n",
    "from sklearn.metrics import accuracy_score, classification_report, confusion_matrix"
   ]
  },
  {
   "cell_type": "code",
   "execution_count": 58,
   "id": "dbfa24d3",
   "metadata": {},
   "outputs": [],
   "source": [
    "DTC = DecisionTreeClassifier()\n",
    "GNB = GaussianNB()\n",
    "SVC = SVC()\n",
    "KNN = KNeighborsClassifier()\n",
    "LG = LogisticRegression()"
   ]
  },
  {
   "cell_type": "code",
   "execution_count": 59,
   "id": "6c4563d9",
   "metadata": {},
   "outputs": [
    {
     "name": "stdout",
     "output_type": "stream",
     "text": [
      "DecisionTreeClassifier()\n",
      "Accuracy score for train data:  1.0\n",
      "Accuracy score for test data:  1.0\n",
      "              precision    recall  f1-score   support\n",
      "\n",
      "           0       1.00      1.00      1.00      4972\n",
      "           1       1.00      1.00      1.00      1541\n",
      "\n",
      "    accuracy                           1.00      6513\n",
      "   macro avg       1.00      1.00      1.00      6513\n",
      "weighted avg       1.00      1.00      1.00      6513\n",
      "\n",
      "[[4972    0]\n",
      " [   0 1541]]\n",
      "\n",
      "--------------------------------------------\n",
      "\n",
      "GaussianNB()\n",
      "Accuracy score for train data:  1.0\n",
      "Accuracy score for test data:  1.0\n",
      "              precision    recall  f1-score   support\n",
      "\n",
      "           0       1.00      1.00      1.00      4972\n",
      "           1       1.00      1.00      1.00      1541\n",
      "\n",
      "    accuracy                           1.00      6513\n",
      "   macro avg       1.00      1.00      1.00      6513\n",
      "weighted avg       1.00      1.00      1.00      6513\n",
      "\n",
      "[[4972    0]\n",
      " [   0 1541]]\n",
      "\n",
      "--------------------------------------------\n",
      "\n",
      "SVC()\n",
      "Accuracy score for train data:  0.9872562567173345\n",
      "Accuracy score for test data:  0.9938574938574939\n",
      "              precision    recall  f1-score   support\n",
      "\n",
      "           0       0.99      1.00      0.99      4972\n",
      "           1       0.99      0.95      0.97      1541\n",
      "\n",
      "    accuracy                           0.99      6513\n",
      "   macro avg       0.99      0.98      0.98      6513\n",
      "weighted avg       0.99      0.99      0.99      6513\n",
      "\n",
      "[[4961   11]\n",
      " [  72 1469]]\n",
      "\n",
      "--------------------------------------------\n",
      "\n",
      "LogisticRegression()\n",
      "Accuracy score for train data:  1.0\n",
      "Accuracy score for test data:  1.0\n",
      "              precision    recall  f1-score   support\n",
      "\n",
      "           0       1.00      1.00      1.00      4972\n",
      "           1       1.00      1.00      1.00      1541\n",
      "\n",
      "    accuracy                           1.00      6513\n",
      "   macro avg       1.00      1.00      1.00      6513\n",
      "weighted avg       1.00      1.00      1.00      6513\n",
      "\n",
      "[[4972    0]\n",
      " [   0 1541]]\n",
      "\n",
      "--------------------------------------------\n",
      "\n"
     ]
    }
   ],
   "source": [
    "x_train, x_test, y_train, y_test = train_test_split(training_data,dataY, test_size = 0.2, random_state = 101)\n",
    "for i in [DTC, GNB, SVC, KNN, LG]:\n",
    "    i.fit(x_train, y_train)\n",
    "    prediction = i.predict(x_test)\n",
    "    test_score = accuracy_score(y_test, prediction)\n",
    "    train_score = accuracy_score(y_train, i.predict(x_train))\n",
    "    if abs(train_score - test_score) <= 0.01:\n",
    "        print(i)\n",
    "        print('Accuracy score for train data: ' , accuracy_score(y_test, prediction))\n",
    "        print('Accuracy score for test data: ' , accuracy_score(y_train, i.predict(x_train)))\n",
    "        print(classification_report(y_test, prediction))\n",
    "        print(confusion_matrix(y_test, prediction))\n",
    "        print('\\n--------------------------------------------\\n')"
   ]
  },
  {
   "cell_type": "code",
   "execution_count": 60,
   "id": "a5350c80",
   "metadata": {},
   "outputs": [],
   "source": [
    "from sklearn.ensemble import RandomForestClassifier, AdaBoostClassifier, GradientBoostingClassifier\n",
    "RFC = RandomForestClassifier()\n",
    "AD = AdaBoostClassifier()\n",
    "GD = GradientBoostingClassifier()"
   ]
  },
  {
   "cell_type": "code",
   "execution_count": 61,
   "id": "4ea9c496",
   "metadata": {},
   "outputs": [
    {
     "name": "stdout",
     "output_type": "stream",
     "text": [
      "RandomForestClassifier()\n",
      "Accuracy score for train data:  1.0\n",
      "Accuracy score for test data:  1.0\n",
      "              precision    recall  f1-score   support\n",
      "\n",
      "           0       1.00      1.00      1.00      4972\n",
      "           1       1.00      1.00      1.00      1541\n",
      "\n",
      "    accuracy                           1.00      6513\n",
      "   macro avg       1.00      1.00      1.00      6513\n",
      "weighted avg       1.00      1.00      1.00      6513\n",
      "\n",
      "[[4972    0]\n",
      " [   0 1541]]\n",
      "\n",
      "--------------------------------------------\n",
      "\n",
      "AdaBoostClassifier()\n",
      "Accuracy score for train data:  1.0\n",
      "Accuracy score for test data:  1.0\n",
      "              precision    recall  f1-score   support\n",
      "\n",
      "           0       1.00      1.00      1.00      4972\n",
      "           1       1.00      1.00      1.00      1541\n",
      "\n",
      "    accuracy                           1.00      6513\n",
      "   macro avg       1.00      1.00      1.00      6513\n",
      "weighted avg       1.00      1.00      1.00      6513\n",
      "\n",
      "[[4972    0]\n",
      " [   0 1541]]\n",
      "\n",
      "--------------------------------------------\n",
      "\n",
      "GradientBoostingClassifier()\n",
      "Accuracy score for train data:  1.0\n",
      "Accuracy score for test data:  1.0\n",
      "              precision    recall  f1-score   support\n",
      "\n",
      "           0       1.00      1.00      1.00      4972\n",
      "           1       1.00      1.00      1.00      1541\n",
      "\n",
      "    accuracy                           1.00      6513\n",
      "   macro avg       1.00      1.00      1.00      6513\n",
      "weighted avg       1.00      1.00      1.00      6513\n",
      "\n",
      "[[4972    0]\n",
      " [   0 1541]]\n",
      "\n",
      "--------------------------------------------\n",
      "\n"
     ]
    }
   ],
   "source": [
    "x_train, x_test, y_train, y_test = train_test_split(training_data, dataY, test_size = 0.2, random_state = 101)\n",
    "for i in [RFC, AD, GD]:\n",
    "    i.fit(x_train, y_train)\n",
    "    prediction = i.predict(x_test)\n",
    "    test_score = accuracy_score(y_test, prediction)\n",
    "    train_score = accuracy_score(y_train, i.predict(x_train))\n",
    "    if abs(train_score - test_score) <= 0.01:\n",
    "        print(i)\n",
    "        print('Accuracy score for train data: ' , accuracy_score(y_test, prediction))\n",
    "        print('Accuracy score for test data: ' , accuracy_score(y_train, i.predict(x_train)))\n",
    "        print(classification_report(y_test, prediction))\n",
    "        print(confusion_matrix(y_test, prediction))\n",
    "        print('\\n--------------------------------------------\\n')"
   ]
  },
  {
   "cell_type": "markdown",
   "id": "b828be13",
   "metadata": {},
   "source": [
    "<h3>Cross Validation</h3>\n",
    "<p>The goal of cross-validation is to test the model’s ability to predict new data that was not used in estimating it, in order to flag problems like overfitting or selection bias and to give an insight on how the model will generalize to an independent dataset (i.e., an unknown dataset, for instance from a real problem)</p>"
   ]
  },
  {
   "cell_type": "code",
   "execution_count": 62,
   "id": "62f414c8",
   "metadata": {},
   "outputs": [
    {
     "name": "stdout",
     "output_type": "stream",
     "text": [
      "GradientBoostingClassifier() 1.0\n",
      "GradientBoostingClassifier() 1.0\n",
      "GradientBoostingClassifier() 1.0\n",
      "GradientBoostingClassifier() 1.0\n",
      "GradientBoostingClassifier() 1.0\n",
      "GradientBoostingClassifier() 1.0\n",
      "GradientBoostingClassifier() 1.0\n",
      "GradientBoostingClassifier() 1.0\n"
     ]
    }
   ],
   "source": [
    "from sklearn.model_selection import cross_val_score\n",
    "for i in range(2,10):\n",
    "    cv = cross_val_score(GD, training_data, dataY, cv = i)\n",
    "    print(GD, cv.mean())"
   ]
  },
  {
   "cell_type": "code",
   "execution_count": 63,
   "id": "f08ea2b0",
   "metadata": {},
   "outputs": [
    {
     "name": "stdout",
     "output_type": "stream",
     "text": [
      "RandomForestClassifier() 1.0\n",
      "RandomForestClassifier() 1.0\n",
      "RandomForestClassifier() 1.0\n",
      "RandomForestClassifier() 1.0\n",
      "RandomForestClassifier() 1.0\n",
      "RandomForestClassifier() 1.0\n",
      "RandomForestClassifier() 1.0\n",
      "RandomForestClassifier() 1.0\n"
     ]
    }
   ],
   "source": [
    "from sklearn.model_selection import cross_val_score\n",
    "for i in range(2,10):\n",
    "    cv = cross_val_score(RFC, training_data, dataY, cv = i)\n",
    "    print(RFC, cv.mean())"
   ]
  },
  {
   "cell_type": "code",
   "execution_count": null,
   "id": "a6874c6d",
   "metadata": {},
   "outputs": [
    {
     "name": "stdout",
     "output_type": "stream",
     "text": [
      "RandomForestClassifier() 1.0\n",
      "RandomForestClassifier() 1.0\n",
      "RandomForestClassifier() 1.0\n",
      "RandomForestClassifier() 1.0\n",
      "RandomForestClassifier() 1.0\n",
      "RandomForestClassifier() 1.0\n",
      "RandomForestClassifier() 1.0\n",
      "RandomForestClassifier() 1.0\n",
      "RandomForestClassifier() 1.0\n",
      "RandomForestClassifier() 1.0\n",
      "RandomForestClassifier() 1.0\n",
      "RandomForestClassifier() 1.0\n",
      "RandomForestClassifier() 1.0\n",
      "RandomForestClassifier() 1.0\n",
      "RandomForestClassifier() 1.0\n",
      "RandomForestClassifier() 1.0\n",
      "RandomForestClassifier() 1.0\n",
      "RandomForestClassifier() 1.0\n",
      "RandomForestClassifier() 1.0\n",
      "RandomForestClassifier() 1.0\n",
      "RandomForestClassifier() 1.0\n",
      "RandomForestClassifier() 1.0\n",
      "RandomForestClassifier() 1.0\n",
      "RandomForestClassifier() 1.0\n",
      "RandomForestClassifier() 1.0\n",
      "RandomForestClassifier() 1.0\n",
      "RandomForestClassifier() 1.0\n",
      "RandomForestClassifier() 1.0\n",
      "RandomForestClassifier() 1.0\n",
      "RandomForestClassifier() 1.0\n",
      "RandomForestClassifier() 1.0\n",
      "RandomForestClassifier() 1.0\n",
      "RandomForestClassifier() 1.0\n",
      "RandomForestClassifier() 1.0\n",
      "RandomForestClassifier() 1.0\n"
     ]
    }
   ],
   "source": [
    "from sklearn.model_selection import cross_val_score\n",
    "for i in range(2,100):\n",
    "    cv = cross_val_score(RFC, training_data, dataY, cv = 11)\n",
    "    print(RFC, cv.mean())"
   ]
  },
  {
   "cell_type": "code",
   "execution_count": null,
   "id": "bdbd0fdc",
   "metadata": {},
   "outputs": [],
   "source": []
  },
  {
   "cell_type": "code",
   "execution_count": null,
   "id": "1bf4d31b",
   "metadata": {},
   "outputs": [],
   "source": []
  }
 ],
 "metadata": {
  "kernelspec": {
   "display_name": "Python 3 (ipykernel)",
   "language": "python",
   "name": "python3"
  },
  "language_info": {
   "codemirror_mode": {
    "name": "ipython",
    "version": 3
   },
   "file_extension": ".py",
   "mimetype": "text/x-python",
   "name": "python",
   "nbconvert_exporter": "python",
   "pygments_lexer": "ipython3",
   "version": "3.8.8"
  }
 },
 "nbformat": 4,
 "nbformat_minor": 5
}
